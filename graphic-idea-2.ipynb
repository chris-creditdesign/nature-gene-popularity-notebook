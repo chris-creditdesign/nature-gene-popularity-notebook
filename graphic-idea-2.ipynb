{
 "cells": [
  {
   "cell_type": "markdown",
   "metadata": {},
   "source": [
    "### Count number of lines"
   ]
  },
  {
   "cell_type": "code",
   "execution_count": 1,
   "metadata": {
    "collapsed": false
   },
   "outputs": [
    {
     "name": "stdout",
     "output_type": "stream",
     "text": [
      " 7999317 ./new_data_from_peter/graphic-idea-2.tsv\r\n"
     ]
    }
   ],
   "source": [
    "! wc -l \"./new_data_from_peter/graphic-idea-2.tsv\""
   ]
  },
  {
   "cell_type": "markdown",
   "metadata": {},
   "source": [
    "### Import Pandas"
   ]
  },
  {
   "cell_type": "code",
   "execution_count": 2,
   "metadata": {
    "collapsed": true
   },
   "outputs": [],
   "source": [
    "import pandas as pd\n",
    "import numpy as np\n",
    "import matplotlib.pyplot as plt\n",
    "pd.set_option(\"max_columns\", 50)\n",
    "%matplotlib inline"
   ]
  },
  {
   "cell_type": "markdown",
   "metadata": {},
   "source": [
    "### Load the csv into a DataFrame"
   ]
  },
  {
   "cell_type": "code",
   "execution_count": 3,
   "metadata": {
    "collapsed": false
   },
   "outputs": [
    {
     "data": {
      "text/html": [
       "<div>\n",
       "<table border=\"1\" class=\"dataframe\">\n",
       "  <thead>\n",
       "    <tr style=\"text-align: right;\">\n",
       "      <th></th>\n",
       "      <th>taxId</th>\n",
       "      <th>geneId</th>\n",
       "      <th>year</th>\n",
       "      <th>symbol</th>\n",
       "      <th>geneName</th>\n",
       "      <th>geneType</th>\n",
       "      <th>citations</th>\n",
       "    </tr>\n",
       "  </thead>\n",
       "  <tbody>\n",
       "    <tr>\n",
       "      <th>0</th>\n",
       "      <td>287</td>\n",
       "      <td>20712569</td>\n",
       "      <td>2011</td>\n",
       "      <td>D703_p4014</td>\n",
       "      <td>hypothetical protein</td>\n",
       "      <td>protein-coding</td>\n",
       "      <td>1</td>\n",
       "    </tr>\n",
       "    <tr>\n",
       "      <th>1</th>\n",
       "      <td>359</td>\n",
       "      <td>874703</td>\n",
       "      <td>2001</td>\n",
       "      <td>riorf119</td>\n",
       "      <td>riorf119</td>\n",
       "      <td>protein-coding</td>\n",
       "      <td>1</td>\n",
       "    </tr>\n",
       "    <tr>\n",
       "      <th>2</th>\n",
       "      <td>394</td>\n",
       "      <td>7789576</td>\n",
       "      <td>2009</td>\n",
       "      <td>NGR_b00360</td>\n",
       "      <td>hypothetical protein</td>\n",
       "      <td>protein-coding</td>\n",
       "      <td>1</td>\n",
       "    </tr>\n",
       "    <tr>\n",
       "      <th>3</th>\n",
       "      <td>562</td>\n",
       "      <td>20466744</td>\n",
       "      <td>2015</td>\n",
       "      <td>orf00008</td>\n",
       "      <td>hypothetical protein</td>\n",
       "      <td>protein-coding</td>\n",
       "      <td>1</td>\n",
       "    </tr>\n",
       "    <tr>\n",
       "      <th>4</th>\n",
       "      <td>573</td>\n",
       "      <td>15230191</td>\n",
       "      <td>2015</td>\n",
       "      <td>D647_p21159</td>\n",
       "      <td>adenine-specific methyltransferase</td>\n",
       "      <td>protein-coding</td>\n",
       "      <td>1</td>\n",
       "    </tr>\n",
       "  </tbody>\n",
       "</table>\n",
       "</div>"
      ],
      "text/plain": [
       "   taxId    geneId  year       symbol                            geneName  \\\n",
       "0    287  20712569  2011   D703_p4014                hypothetical protein   \n",
       "1    359    874703  2001     riorf119                            riorf119   \n",
       "2    394   7789576  2009   NGR_b00360                hypothetical protein   \n",
       "3    562  20466744  2015     orf00008                hypothetical protein   \n",
       "4    573  15230191  2015  D647_p21159  adenine-specific methyltransferase   \n",
       "\n",
       "         geneType  citations  \n",
       "0  protein-coding          1  \n",
       "1  protein-coding          1  \n",
       "2  protein-coding          1  \n",
       "3  protein-coding          1  \n",
       "4  protein-coding          1  "
      ]
     },
     "execution_count": 3,
     "metadata": {},
     "output_type": "execute_result"
    }
   ],
   "source": [
    "cols = [\"taxId\", \"geneId\", \"year\", \"symbol\", \"geneName\", \"geneType\", \"citations\"]\n",
    "\n",
    "geneDf = pd.read_table(\"./new_data_from_peter/graphic-idea-2.tsv\", header=None, names=cols)\n",
    "\n",
    "geneDf.head()"
   ]
  },
  {
   "cell_type": "markdown",
   "metadata": {},
   "source": [
    "### Examine the Genes"
   ]
  },
  {
   "cell_type": "markdown",
   "metadata": {},
   "source": [
    "#### Gene: CD4"
   ]
  },
  {
   "cell_type": "code",
   "execution_count": 5,
   "metadata": {
    "collapsed": false
   },
   "outputs": [
    {
     "data": {
      "text/html": [
       "<div>\n",
       "<table border=\"1\" class=\"dataframe\">\n",
       "  <thead>\n",
       "    <tr style=\"text-align: right;\">\n",
       "      <th></th>\n",
       "      <th>taxId</th>\n",
       "      <th>geneId</th>\n",
       "      <th>year</th>\n",
       "      <th>symbol</th>\n",
       "      <th>geneName</th>\n",
       "      <th>geneType</th>\n",
       "      <th>citations</th>\n",
       "    </tr>\n",
       "  </thead>\n",
       "  <tbody>\n",
       "    <tr>\n",
       "      <th>2455</th>\n",
       "      <td>9796</td>\n",
       "      <td>100052502</td>\n",
       "      <td>2015</td>\n",
       "      <td>CD4</td>\n",
       "      <td>CD4 molecule</td>\n",
       "      <td>protein-coding</td>\n",
       "      <td>1</td>\n",
       "    </tr>\n",
       "    <tr>\n",
       "      <th>158089</th>\n",
       "      <td>225400</td>\n",
       "      <td>102760024</td>\n",
       "      <td>2012</td>\n",
       "      <td>CD4</td>\n",
       "      <td>CD4 molecule</td>\n",
       "      <td>protein-coding</td>\n",
       "      <td>1</td>\n",
       "    </tr>\n",
       "    <tr>\n",
       "      <th>165357</th>\n",
       "      <td>9031</td>\n",
       "      <td>395362</td>\n",
       "      <td>1999</td>\n",
       "      <td>CD4</td>\n",
       "      <td>CD4 molecule</td>\n",
       "      <td>protein-coding</td>\n",
       "      <td>1</td>\n",
       "    </tr>\n",
       "    <tr>\n",
       "      <th>187993</th>\n",
       "      <td>9606</td>\n",
       "      <td>920</td>\n",
       "      <td>1987</td>\n",
       "      <td>CD4</td>\n",
       "      <td>CD4 molecule</td>\n",
       "      <td>protein-coding</td>\n",
       "      <td>22</td>\n",
       "    </tr>\n",
       "    <tr>\n",
       "      <th>187994</th>\n",
       "      <td>9606</td>\n",
       "      <td>920</td>\n",
       "      <td>2001</td>\n",
       "      <td>CD4</td>\n",
       "      <td>CD4 molecule</td>\n",
       "      <td>protein-coding</td>\n",
       "      <td>46</td>\n",
       "    </tr>\n",
       "  </tbody>\n",
       "</table>\n",
       "</div>"
      ],
      "text/plain": [
       "         taxId     geneId  year symbol      geneName        geneType  \\\n",
       "2455      9796  100052502  2015    CD4  CD4 molecule  protein-coding   \n",
       "158089  225400  102760024  2012    CD4  CD4 molecule  protein-coding   \n",
       "165357    9031     395362  1999    CD4  CD4 molecule  protein-coding   \n",
       "187993    9606        920  1987    CD4  CD4 molecule  protein-coding   \n",
       "187994    9606        920  2001    CD4  CD4 molecule  protein-coding   \n",
       "\n",
       "        citations  \n",
       "2455            1  \n",
       "158089          1  \n",
       "165357          1  \n",
       "187993         22  \n",
       "187994         46  "
      ]
     },
     "execution_count": 5,
     "metadata": {},
     "output_type": "execute_result"
    }
   ],
   "source": [
    "cd4 = geneDf[geneDf[\"symbol\"] == \"CD4\"]\n",
    "cd4.head()"
   ]
  },
  {
   "cell_type": "code",
   "execution_count": 14,
   "metadata": {
    "collapsed": false
   },
   "outputs": [
    {
     "name": "stdout",
     "output_type": "stream",
     "text": [
      "Total number of citations: 2001\n",
      "Number of entries: 81\n",
      "First year: 1984\n",
      "Last year: 2017\n"
     ]
    }
   ],
   "source": [
    "print(\"Total number of citations: \" + str(cd4[\"citations\"].sum()))\n",
    "print(\"Number of entries: \" + str(cd4[\"citations\"].count()))\n",
    "print(\"First year: \" + str(cd4[\"year\"].min()))\n",
    "print(\"Last year: \" + str(cd4[\"year\"].max()))"
   ]
  },
  {
   "cell_type": "code",
   "execution_count": 74,
   "metadata": {
    "collapsed": false
   },
   "outputs": [
    {
     "name": "stdout",
     "output_type": "stream",
     "text": [
      "Number of entries:       citations\n",
      "year           \n",
      "1994          2\n",
      "1995          1\n",
      "1996          1\n",
      "1997          3\n",
      "1998          3\n",
      "Number of citations:       citations\n",
      "year           \n",
      "1994         41\n",
      "1995         50\n",
      "1996         81\n",
      "1997         39\n",
      "1998         48\n"
     ]
    }
   ],
   "source": [
    "cd4_by_year = cd4.filter([\"year\",\"citations\"], axis=1).groupby(\"year\")\n",
    "print(\"Number of entries: \" + str(cd4_by_year.count()[10:15]))\n",
    "print(\"Number of citations: \" + str(cd4_by_year.sum()[10:15]))"
   ]
  },
  {
   "cell_type": "code",
   "execution_count": 75,
   "metadata": {
    "collapsed": false
   },
   "outputs": [
    {
     "data": {
      "text/html": [
       "<div>\n",
       "<table border=\"1\" class=\"dataframe\">\n",
       "  <thead>\n",
       "    <tr style=\"text-align: right;\">\n",
       "      <th></th>\n",
       "      <th>year</th>\n",
       "      <th>cd4</th>\n",
       "    </tr>\n",
       "  </thead>\n",
       "  <tbody>\n",
       "    <tr>\n",
       "      <th>0</th>\n",
       "      <td>1984</td>\n",
       "      <td>1</td>\n",
       "    </tr>\n",
       "    <tr>\n",
       "      <th>1</th>\n",
       "      <td>1985</td>\n",
       "      <td>5</td>\n",
       "    </tr>\n",
       "    <tr>\n",
       "      <th>2</th>\n",
       "      <td>1986</td>\n",
       "      <td>12</td>\n",
       "    </tr>\n",
       "    <tr>\n",
       "      <th>3</th>\n",
       "      <td>1987</td>\n",
       "      <td>22</td>\n",
       "    </tr>\n",
       "    <tr>\n",
       "      <th>4</th>\n",
       "      <td>1988</td>\n",
       "      <td>18</td>\n",
       "    </tr>\n",
       "  </tbody>\n",
       "</table>\n",
       "</div>"
      ],
      "text/plain": [
       "   year  cd4\n",
       "0  1984    1\n",
       "1  1985    5\n",
       "2  1986   12\n",
       "3  1987   22\n",
       "4  1988   18"
      ]
     },
     "execution_count": 75,
     "metadata": {},
     "output_type": "execute_result"
    }
   ],
   "source": [
    "cd4_sum = cd4_by_year.sum().reset_index()\n",
    "cd4_sum.rename(columns={\"citations\":\"cd4\"}, inplace=True)\n",
    "cd4_sum.head()"
   ]
  },
  {
   "cell_type": "markdown",
   "metadata": {},
   "source": [
    "#### Gene: TP53"
   ]
  },
  {
   "cell_type": "code",
   "execution_count": 15,
   "metadata": {
    "collapsed": false
   },
   "outputs": [
    {
     "data": {
      "text/html": [
       "<div>\n",
       "<table border=\"1\" class=\"dataframe\">\n",
       "  <thead>\n",
       "    <tr style=\"text-align: right;\">\n",
       "      <th></th>\n",
       "      <th>taxId</th>\n",
       "      <th>geneId</th>\n",
       "      <th>year</th>\n",
       "      <th>symbol</th>\n",
       "      <th>geneName</th>\n",
       "      <th>geneType</th>\n",
       "      <th>citations</th>\n",
       "    </tr>\n",
       "  </thead>\n",
       "  <tbody>\n",
       "    <tr>\n",
       "      <th>89648</th>\n",
       "      <td>9606</td>\n",
       "      <td>7157</td>\n",
       "      <td>1984</td>\n",
       "      <td>TP53</td>\n",
       "      <td>tumor protein p53</td>\n",
       "      <td>protein-coding</td>\n",
       "      <td>1</td>\n",
       "    </tr>\n",
       "    <tr>\n",
       "      <th>89649</th>\n",
       "      <td>9606</td>\n",
       "      <td>7157</td>\n",
       "      <td>2002</td>\n",
       "      <td>TP53</td>\n",
       "      <td>tumor protein p53</td>\n",
       "      <td>protein-coding</td>\n",
       "      <td>338</td>\n",
       "    </tr>\n",
       "    <tr>\n",
       "      <th>270182</th>\n",
       "      <td>9615</td>\n",
       "      <td>403869</td>\n",
       "      <td>1997</td>\n",
       "      <td>TP53</td>\n",
       "      <td>tumor protein p53</td>\n",
       "      <td>protein-coding</td>\n",
       "      <td>1</td>\n",
       "    </tr>\n",
       "    <tr>\n",
       "      <th>270183</th>\n",
       "      <td>9615</td>\n",
       "      <td>403869</td>\n",
       "      <td>2015</td>\n",
       "      <td>TP53</td>\n",
       "      <td>tumor protein p53</td>\n",
       "      <td>protein-coding</td>\n",
       "      <td>3</td>\n",
       "    </tr>\n",
       "    <tr>\n",
       "      <th>368531</th>\n",
       "      <td>9606</td>\n",
       "      <td>7157</td>\n",
       "      <td>2003</td>\n",
       "      <td>TP53</td>\n",
       "      <td>tumor protein p53</td>\n",
       "      <td>protein-coding</td>\n",
       "      <td>340</td>\n",
       "    </tr>\n",
       "  </tbody>\n",
       "</table>\n",
       "</div>"
      ],
      "text/plain": [
       "        taxId  geneId  year symbol           geneName        geneType  \\\n",
       "89648    9606    7157  1984   TP53  tumor protein p53  protein-coding   \n",
       "89649    9606    7157  2002   TP53  tumor protein p53  protein-coding   \n",
       "270182   9615  403869  1997   TP53  tumor protein p53  protein-coding   \n",
       "270183   9615  403869  2015   TP53  tumor protein p53  protein-coding   \n",
       "368531   9606    7157  2003   TP53  tumor protein p53  protein-coding   \n",
       "\n",
       "        citations  \n",
       "89648           1  \n",
       "89649         338  \n",
       "270182          1  \n",
       "270183          3  \n",
       "368531        340  "
      ]
     },
     "execution_count": 15,
     "metadata": {},
     "output_type": "execute_result"
    }
   ],
   "source": [
    "tp53 = geneDf[geneDf[\"symbol\"] == \"TP53\"]\n",
    "tp53.head()"
   ]
  },
  {
   "cell_type": "code",
   "execution_count": 16,
   "metadata": {
    "collapsed": false
   },
   "outputs": [
    {
     "name": "stdout",
     "output_type": "stream",
     "text": [
      "Total number of citations: 8572\n",
      "Number of entries: 107\n",
      "First year: 1976\n",
      "Last year: 2017\n"
     ]
    }
   ],
   "source": [
    "print(\"Total number of citations: \" + str(tp53[\"citations\"].sum()))\n",
    "print(\"Number of entries: \" + str(tp53[\"citations\"].count()))\n",
    "print(\"First year: \" + str(tp53[\"year\"].min()))\n",
    "print(\"Last year: \" + str(tp53[\"year\"].max()))"
   ]
  },
  {
   "cell_type": "code",
   "execution_count": 76,
   "metadata": {
    "collapsed": false
   },
   "outputs": [
    {
     "name": "stdout",
     "output_type": "stream",
     "text": [
      "Number of entries:       citations\n",
      "year           \n",
      "1993          3\n",
      "1994          4\n",
      "1995          4\n",
      "1996          4\n",
      "1997          3\n",
      "Number of citations:       citations\n",
      "year           \n",
      "1993         19\n",
      "1994         25\n",
      "1995         19\n",
      "1996         28\n",
      "1997         31\n"
     ]
    }
   ],
   "source": [
    "tp53_by_year = tp53.filter([\"year\",\"citations\"], axis=1).groupby(\"year\")\n",
    "print(\"Number of entries: \" + str(tp53_by_year.count()[10:15]))\n",
    "print(\"Number of citations: \" + str(tp53_by_year.sum()[10:15]))"
   ]
  },
  {
   "cell_type": "code",
   "execution_count": 77,
   "metadata": {
    "collapsed": false
   },
   "outputs": [
    {
     "data": {
      "text/html": [
       "<div>\n",
       "<table border=\"1\" class=\"dataframe\">\n",
       "  <thead>\n",
       "    <tr style=\"text-align: right;\">\n",
       "      <th></th>\n",
       "      <th>year</th>\n",
       "      <th>tp53</th>\n",
       "    </tr>\n",
       "  </thead>\n",
       "  <tbody>\n",
       "    <tr>\n",
       "      <th>0</th>\n",
       "      <td>1976</td>\n",
       "      <td>1</td>\n",
       "    </tr>\n",
       "    <tr>\n",
       "      <th>1</th>\n",
       "      <td>1983</td>\n",
       "      <td>1</td>\n",
       "    </tr>\n",
       "    <tr>\n",
       "      <th>2</th>\n",
       "      <td>1984</td>\n",
       "      <td>1</td>\n",
       "    </tr>\n",
       "    <tr>\n",
       "      <th>3</th>\n",
       "      <td>1985</td>\n",
       "      <td>3</td>\n",
       "    </tr>\n",
       "    <tr>\n",
       "      <th>4</th>\n",
       "      <td>1986</td>\n",
       "      <td>4</td>\n",
       "    </tr>\n",
       "  </tbody>\n",
       "</table>\n",
       "</div>"
      ],
      "text/plain": [
       "   year  tp53\n",
       "0  1976     1\n",
       "1  1983     1\n",
       "2  1984     1\n",
       "3  1985     3\n",
       "4  1986     4"
      ]
     },
     "execution_count": 77,
     "metadata": {},
     "output_type": "execute_result"
    }
   ],
   "source": [
    "tp53_sum = tp53_by_year.sum().reset_index()\n",
    "tp53_sum.rename(columns={\"citations\":\"tp53\"}, inplace=True)\n",
    "tp53_sum.head()"
   ]
  },
  {
   "cell_type": "markdown",
   "metadata": {},
   "source": [
    "#### Gene: GRB2"
   ]
  },
  {
   "cell_type": "code",
   "execution_count": 21,
   "metadata": {
    "collapsed": false
   },
   "outputs": [
    {
     "data": {
      "text/html": [
       "<div>\n",
       "<table border=\"1\" class=\"dataframe\">\n",
       "  <thead>\n",
       "    <tr style=\"text-align: right;\">\n",
       "      <th></th>\n",
       "      <th>taxId</th>\n",
       "      <th>geneId</th>\n",
       "      <th>year</th>\n",
       "      <th>symbol</th>\n",
       "      <th>geneName</th>\n",
       "      <th>geneType</th>\n",
       "      <th>citations</th>\n",
       "    </tr>\n",
       "  </thead>\n",
       "  <tbody>\n",
       "    <tr>\n",
       "      <th>44667</th>\n",
       "      <td>9606</td>\n",
       "      <td>2885</td>\n",
       "      <td>1994</td>\n",
       "      <td>GRB2</td>\n",
       "      <td>growth factor receptor bound protein 2</td>\n",
       "      <td>protein-coding</td>\n",
       "      <td>40</td>\n",
       "    </tr>\n",
       "    <tr>\n",
       "      <th>44668</th>\n",
       "      <td>9606</td>\n",
       "      <td>2885</td>\n",
       "      <td>2008</td>\n",
       "      <td>GRB2</td>\n",
       "      <td>growth factor receptor bound protein 2</td>\n",
       "      <td>protein-coding</td>\n",
       "      <td>20</td>\n",
       "    </tr>\n",
       "    <tr>\n",
       "      <th>323082</th>\n",
       "      <td>9606</td>\n",
       "      <td>2885</td>\n",
       "      <td>1995</td>\n",
       "      <td>GRB2</td>\n",
       "      <td>growth factor receptor bound protein 2</td>\n",
       "      <td>protein-coding</td>\n",
       "      <td>38</td>\n",
       "    </tr>\n",
       "    <tr>\n",
       "      <th>601968</th>\n",
       "      <td>9606</td>\n",
       "      <td>2885</td>\n",
       "      <td>1992</td>\n",
       "      <td>GRB2</td>\n",
       "      <td>growth factor receptor bound protein 2</td>\n",
       "      <td>protein-coding</td>\n",
       "      <td>2</td>\n",
       "    </tr>\n",
       "    <tr>\n",
       "      <th>686527</th>\n",
       "      <td>9823</td>\n",
       "      <td>100192436</td>\n",
       "      <td>2005</td>\n",
       "      <td>GRB2</td>\n",
       "      <td>growth factor receptor bound protein 2</td>\n",
       "      <td>protein-coding</td>\n",
       "      <td>1</td>\n",
       "    </tr>\n",
       "  </tbody>\n",
       "</table>\n",
       "</div>"
      ],
      "text/plain": [
       "        taxId     geneId  year symbol                                geneName  \\\n",
       "44667    9606       2885  1994   GRB2  growth factor receptor bound protein 2   \n",
       "44668    9606       2885  2008   GRB2  growth factor receptor bound protein 2   \n",
       "323082   9606       2885  1995   GRB2  growth factor receptor bound protein 2   \n",
       "601968   9606       2885  1992   GRB2  growth factor receptor bound protein 2   \n",
       "686527   9823  100192436  2005   GRB2  growth factor receptor bound protein 2   \n",
       "\n",
       "              geneType  citations  \n",
       "44667   protein-coding         40  \n",
       "44668   protein-coding         20  \n",
       "323082  protein-coding         38  \n",
       "601968  protein-coding          2  \n",
       "686527  protein-coding          1  "
      ]
     },
     "execution_count": 21,
     "metadata": {},
     "output_type": "execute_result"
    }
   ],
   "source": [
    "grb2 = geneDf[geneDf[\"symbol\"] == \"GRB2\"]\n",
    "grb2.head()"
   ]
  },
  {
   "cell_type": "code",
   "execution_count": 22,
   "metadata": {
    "collapsed": false
   },
   "outputs": [
    {
     "name": "stdout",
     "output_type": "stream",
     "text": [
      "Total number of citations: 772\n",
      "Number of entries: 52\n",
      "First year: 1977\n",
      "Last year: 2017\n"
     ]
    }
   ],
   "source": [
    "print(\"Total number of citations: \" + str(grb2[\"citations\"].sum()))\n",
    "print(\"Number of entries: \" + str(grb2[\"citations\"].count()))\n",
    "print(\"First year: \" + str(grb2[\"year\"].min()))\n",
    "print(\"Last year: \" + str(grb2[\"year\"].max()))"
   ]
  },
  {
   "cell_type": "code",
   "execution_count": 78,
   "metadata": {
    "collapsed": false
   },
   "outputs": [
    {
     "name": "stdout",
     "output_type": "stream",
     "text": [
      "Number of entries:       citations\n",
      "year           \n",
      "2001          1\n",
      "2002          2\n",
      "2003          2\n",
      "2004          2\n",
      "2005          2\n",
      "Number of citations:       citations\n",
      "year           \n",
      "2001         50\n",
      "2002         47\n",
      "2003         24\n",
      "2004         26\n",
      "2005         26\n"
     ]
    }
   ],
   "source": [
    "grb2_by_year = grb2.filter([\"year\",\"citations\"], axis=1).groupby(\"year\")\n",
    "print(\"Number of entries: \" + str(grb2_by_year.count()[10:15]))\n",
    "print(\"Number of citations: \" + str(grb2_by_year.sum()[10:15]))"
   ]
  },
  {
   "cell_type": "code",
   "execution_count": 79,
   "metadata": {
    "collapsed": false
   },
   "outputs": [
    {
     "data": {
      "text/html": [
       "<div>\n",
       "<table border=\"1\" class=\"dataframe\">\n",
       "  <thead>\n",
       "    <tr style=\"text-align: right;\">\n",
       "      <th></th>\n",
       "      <th>year</th>\n",
       "      <th>grb2</th>\n",
       "    </tr>\n",
       "  </thead>\n",
       "  <tbody>\n",
       "    <tr>\n",
       "      <th>0</th>\n",
       "      <td>1977</td>\n",
       "      <td>1</td>\n",
       "    </tr>\n",
       "    <tr>\n",
       "      <th>1</th>\n",
       "      <td>1992</td>\n",
       "      <td>2</td>\n",
       "    </tr>\n",
       "    <tr>\n",
       "      <th>2</th>\n",
       "      <td>1993</td>\n",
       "      <td>8</td>\n",
       "    </tr>\n",
       "    <tr>\n",
       "      <th>3</th>\n",
       "      <td>1994</td>\n",
       "      <td>41</td>\n",
       "    </tr>\n",
       "    <tr>\n",
       "      <th>4</th>\n",
       "      <td>1995</td>\n",
       "      <td>38</td>\n",
       "    </tr>\n",
       "  </tbody>\n",
       "</table>\n",
       "</div>"
      ],
      "text/plain": [
       "   year  grb2\n",
       "0  1977     1\n",
       "1  1992     2\n",
       "2  1993     8\n",
       "3  1994    41\n",
       "4  1995    38"
      ]
     },
     "execution_count": 79,
     "metadata": {},
     "output_type": "execute_result"
    }
   ],
   "source": [
    "grb2_sum = grb2_by_year.sum().reset_index()\n",
    "grb2_sum.rename(columns={\"citations\":\"grb2\"}, inplace=True)\n",
    "grb2_sum.head()"
   ]
  },
  {
   "cell_type": "markdown",
   "metadata": {},
   "source": [
    "#### Gene: HBB"
   ]
  },
  {
   "cell_type": "code",
   "execution_count": 17,
   "metadata": {
    "collapsed": false
   },
   "outputs": [
    {
     "data": {
      "text/html": [
       "<div>\n",
       "<table border=\"1\" class=\"dataframe\">\n",
       "  <thead>\n",
       "    <tr style=\"text-align: right;\">\n",
       "      <th></th>\n",
       "      <th>taxId</th>\n",
       "      <th>geneId</th>\n",
       "      <th>year</th>\n",
       "      <th>symbol</th>\n",
       "      <th>geneName</th>\n",
       "      <th>geneType</th>\n",
       "      <th>citations</th>\n",
       "    </tr>\n",
       "  </thead>\n",
       "  <tbody>\n",
       "    <tr>\n",
       "      <th>24127</th>\n",
       "      <td>9541</td>\n",
       "      <td>101926697</td>\n",
       "      <td>2011</td>\n",
       "      <td>HBB</td>\n",
       "      <td>hemoglobin, beta</td>\n",
       "      <td>protein-coding</td>\n",
       "      <td>1</td>\n",
       "    </tr>\n",
       "    <tr>\n",
       "      <th>52181</th>\n",
       "      <td>9598</td>\n",
       "      <td>450978</td>\n",
       "      <td>1985</td>\n",
       "      <td>HBB</td>\n",
       "      <td>hemoglobin subunit beta</td>\n",
       "      <td>protein-coding</td>\n",
       "      <td>1</td>\n",
       "    </tr>\n",
       "    <tr>\n",
       "      <th>111260</th>\n",
       "      <td>9606</td>\n",
       "      <td>3043</td>\n",
       "      <td>2009</td>\n",
       "      <td>HBB</td>\n",
       "      <td>hemoglobin subunit beta</td>\n",
       "      <td>protein-coding</td>\n",
       "      <td>48</td>\n",
       "    </tr>\n",
       "    <tr>\n",
       "      <th>126385</th>\n",
       "      <td>9823</td>\n",
       "      <td>407066</td>\n",
       "      <td>2003</td>\n",
       "      <td>HBB</td>\n",
       "      <td>hemoglobin, beta</td>\n",
       "      <td>protein-coding</td>\n",
       "      <td>1</td>\n",
       "    </tr>\n",
       "    <tr>\n",
       "      <th>297213</th>\n",
       "      <td>9606</td>\n",
       "      <td>3043</td>\n",
       "      <td>1979</td>\n",
       "      <td>HBB</td>\n",
       "      <td>hemoglobin subunit beta</td>\n",
       "      <td>protein-coding</td>\n",
       "      <td>2</td>\n",
       "    </tr>\n",
       "  </tbody>\n",
       "</table>\n",
       "</div>"
      ],
      "text/plain": [
       "        taxId     geneId  year symbol                 geneName  \\\n",
       "24127    9541  101926697  2011    HBB         hemoglobin, beta   \n",
       "52181    9598     450978  1985    HBB  hemoglobin subunit beta   \n",
       "111260   9606       3043  2009    HBB  hemoglobin subunit beta   \n",
       "126385   9823     407066  2003    HBB         hemoglobin, beta   \n",
       "297213   9606       3043  1979    HBB  hemoglobin subunit beta   \n",
       "\n",
       "              geneType  citations  \n",
       "24127   protein-coding          1  \n",
       "52181   protein-coding          1  \n",
       "111260  protein-coding         48  \n",
       "126385  protein-coding          1  \n",
       "297213  protein-coding          2  "
      ]
     },
     "execution_count": 17,
     "metadata": {},
     "output_type": "execute_result"
    }
   ],
   "source": [
    "hbb = geneDf[geneDf[\"symbol\"] == \"HBB\"]\n",
    "hbb.head()"
   ]
  },
  {
   "cell_type": "code",
   "execution_count": 18,
   "metadata": {
    "collapsed": false
   },
   "outputs": [
    {
     "name": "stdout",
     "output_type": "stream",
     "text": [
      "Total number of citations: 758\n",
      "Number of entries: 89\n",
      "First year: 1961\n",
      "Last year: 2017\n"
     ]
    }
   ],
   "source": [
    "print(\"Total number of citations: \" + str(hbb[\"citations\"].sum()))\n",
    "print(\"Number of entries: \" + str(hbb[\"citations\"].count()))\n",
    "print(\"First year: \" + str(hbb[\"year\"].min()))\n",
    "print(\"Last year: \" + str(hbb[\"year\"].max()))"
   ]
  },
  {
   "cell_type": "code",
   "execution_count": 80,
   "metadata": {
    "collapsed": false
   },
   "outputs": [
    {
     "name": "stdout",
     "output_type": "stream",
     "text": [
      "Number of entries:       citations\n",
      "year           \n",
      "1977          2\n",
      "1978          2\n",
      "1979          1\n",
      "1980          2\n",
      "1981          3\n",
      "Number of citations:       citations\n",
      "year           \n",
      "1977          7\n",
      "1978          5\n",
      "1979          2\n",
      "1980          8\n",
      "1981         13\n"
     ]
    }
   ],
   "source": [
    "hbb_by_year = hbb.filter([\"year\",\"citations\"], axis=1).groupby(\"year\")\n",
    "print(\"Number of entries: \" + str(hbb_by_year.count()[10:15]))\n",
    "print(\"Number of citations: \" + str(hbb_by_year.sum()[10:15]))"
   ]
  },
  {
   "cell_type": "code",
   "execution_count": 81,
   "metadata": {
    "collapsed": false
   },
   "outputs": [
    {
     "data": {
      "text/html": [
       "<div>\n",
       "<table border=\"1\" class=\"dataframe\">\n",
       "  <thead>\n",
       "    <tr style=\"text-align: right;\">\n",
       "      <th></th>\n",
       "      <th>year</th>\n",
       "      <th>hbb</th>\n",
       "    </tr>\n",
       "  </thead>\n",
       "  <tbody>\n",
       "    <tr>\n",
       "      <th>0</th>\n",
       "      <td>1961</td>\n",
       "      <td>1</td>\n",
       "    </tr>\n",
       "    <tr>\n",
       "      <th>1</th>\n",
       "      <td>1965</td>\n",
       "      <td>1</td>\n",
       "    </tr>\n",
       "    <tr>\n",
       "      <th>2</th>\n",
       "      <td>1967</td>\n",
       "      <td>1</td>\n",
       "    </tr>\n",
       "    <tr>\n",
       "      <th>3</th>\n",
       "      <td>1968</td>\n",
       "      <td>3</td>\n",
       "    </tr>\n",
       "    <tr>\n",
       "      <th>4</th>\n",
       "      <td>1970</td>\n",
       "      <td>1</td>\n",
       "    </tr>\n",
       "  </tbody>\n",
       "</table>\n",
       "</div>"
      ],
      "text/plain": [
       "   year  hbb\n",
       "0  1961    1\n",
       "1  1965    1\n",
       "2  1967    1\n",
       "3  1968    3\n",
       "4  1970    1"
      ]
     },
     "execution_count": 81,
     "metadata": {},
     "output_type": "execute_result"
    }
   ],
   "source": [
    "hbb_sum = hbb_by_year.sum().reset_index()\n",
    "hbb_sum.rename(columns={\"citations\":\"hbb\"}, inplace=True)\n",
    "hbb_sum.head()"
   ]
  },
  {
   "cell_type": "markdown",
   "metadata": {
    "collapsed": true
   },
   "source": [
    "#### Gene: TNF"
   ]
  },
  {
   "cell_type": "code",
   "execution_count": 23,
   "metadata": {
    "collapsed": false
   },
   "outputs": [
    {
     "data": {
      "text/html": [
       "<div>\n",
       "<table border=\"1\" class=\"dataframe\">\n",
       "  <thead>\n",
       "    <tr style=\"text-align: right;\">\n",
       "      <th></th>\n",
       "      <th>taxId</th>\n",
       "      <th>geneId</th>\n",
       "      <th>year</th>\n",
       "      <th>symbol</th>\n",
       "      <th>geneName</th>\n",
       "      <th>geneType</th>\n",
       "      <th>citations</th>\n",
       "    </tr>\n",
       "  </thead>\n",
       "  <tbody>\n",
       "    <tr>\n",
       "      <th>93352</th>\n",
       "      <td>419612</td>\n",
       "      <td>102510424</td>\n",
       "      <td>2012</td>\n",
       "      <td>TNF</td>\n",
       "      <td>tumor necrosis factor</td>\n",
       "      <td>protein-coding</td>\n",
       "      <td>1</td>\n",
       "    </tr>\n",
       "    <tr>\n",
       "      <th>103814</th>\n",
       "      <td>9606</td>\n",
       "      <td>7124</td>\n",
       "      <td>2000</td>\n",
       "      <td>TNF</td>\n",
       "      <td>tumor necrosis factor</td>\n",
       "      <td>protein-coding</td>\n",
       "      <td>30</td>\n",
       "    </tr>\n",
       "    <tr>\n",
       "      <th>118068</th>\n",
       "      <td>296587</td>\n",
       "      <td>8248308</td>\n",
       "      <td>2009</td>\n",
       "      <td>TNF</td>\n",
       "      <td>receptor-like cell wall protein</td>\n",
       "      <td>protein-coding</td>\n",
       "      <td>1</td>\n",
       "    </tr>\n",
       "    <tr>\n",
       "      <th>152303</th>\n",
       "      <td>9823</td>\n",
       "      <td>397086</td>\n",
       "      <td>1989</td>\n",
       "      <td>TNF</td>\n",
       "      <td>tumor necrosis factor</td>\n",
       "      <td>protein-coding</td>\n",
       "      <td>1</td>\n",
       "    </tr>\n",
       "    <tr>\n",
       "      <th>325292</th>\n",
       "      <td>9544</td>\n",
       "      <td>715467</td>\n",
       "      <td>2011</td>\n",
       "      <td>TNF</td>\n",
       "      <td>tumor necrosis factor</td>\n",
       "      <td>protein-coding</td>\n",
       "      <td>1</td>\n",
       "    </tr>\n",
       "  </tbody>\n",
       "</table>\n",
       "</div>"
      ],
      "text/plain": [
       "         taxId     geneId  year symbol                         geneName  \\\n",
       "93352   419612  102510424  2012    TNF            tumor necrosis factor   \n",
       "103814    9606       7124  2000    TNF            tumor necrosis factor   \n",
       "118068  296587    8248308  2009    TNF  receptor-like cell wall protein   \n",
       "152303    9823     397086  1989    TNF            tumor necrosis factor   \n",
       "325292    9544     715467  2011    TNF            tumor necrosis factor   \n",
       "\n",
       "              geneType  citations  \n",
       "93352   protein-coding          1  \n",
       "103814  protein-coding         30  \n",
       "118068  protein-coding          1  \n",
       "152303  protein-coding          1  \n",
       "325292  protein-coding          1  "
      ]
     },
     "execution_count": 23,
     "metadata": {},
     "output_type": "execute_result"
    }
   ],
   "source": [
    "tnf = geneDf[geneDf[\"symbol\"] == \"TNF\"]\n",
    "tnf.head()"
   ]
  },
  {
   "cell_type": "code",
   "execution_count": 24,
   "metadata": {
    "collapsed": false
   },
   "outputs": [
    {
     "name": "stdout",
     "output_type": "stream",
     "text": [
      "Total number of citations: 5499\n",
      "Number of entries: 140\n",
      "First year: 1984\n",
      "Last year: 2017\n"
     ]
    }
   ],
   "source": [
    "print(\"Total number of citations: \" + str(tnf[\"citations\"].sum()))\n",
    "print(\"Number of entries: \" + str(tnf[\"citations\"].count()))\n",
    "print(\"First year: \" + str(tnf[\"year\"].min()))\n",
    "print(\"Last year: \" + str(tnf[\"year\"].max()))"
   ]
  },
  {
   "cell_type": "code",
   "execution_count": 82,
   "metadata": {
    "collapsed": false
   },
   "outputs": [
    {
     "name": "stdout",
     "output_type": "stream",
     "text": [
      "Number of entries:       citations\n",
      "year           \n",
      "1994          2\n",
      "1995          4\n",
      "1996          1\n",
      "1997          2\n",
      "1998          1\n",
      "Number of citations:       citations\n",
      "year           \n",
      "1994          9\n",
      "1995         18\n",
      "1996          7\n",
      "1997         15\n",
      "1998         13\n"
     ]
    }
   ],
   "source": [
    "tnf_by_year = tnf.filter([\"year\",\"citations\"], axis=1).groupby(\"year\")\n",
    "print(\"Number of entries: \" + str(tnf_by_year.count()[10:15]))\n",
    "print(\"Number of citations: \" + str(tnf_by_year.sum()[10:15]))"
   ]
  },
  {
   "cell_type": "code",
   "execution_count": 83,
   "metadata": {
    "collapsed": false
   },
   "outputs": [
    {
     "data": {
      "text/html": [
       "<div>\n",
       "<table border=\"1\" class=\"dataframe\">\n",
       "  <thead>\n",
       "    <tr style=\"text-align: right;\">\n",
       "      <th></th>\n",
       "      <th>year</th>\n",
       "      <th>tnf</th>\n",
       "    </tr>\n",
       "  </thead>\n",
       "  <tbody>\n",
       "    <tr>\n",
       "      <th>0</th>\n",
       "      <td>1984</td>\n",
       "      <td>1</td>\n",
       "    </tr>\n",
       "    <tr>\n",
       "      <th>1</th>\n",
       "      <td>1985</td>\n",
       "      <td>4</td>\n",
       "    </tr>\n",
       "    <tr>\n",
       "      <th>2</th>\n",
       "      <td>1986</td>\n",
       "      <td>5</td>\n",
       "    </tr>\n",
       "    <tr>\n",
       "      <th>3</th>\n",
       "      <td>1987</td>\n",
       "      <td>1</td>\n",
       "    </tr>\n",
       "    <tr>\n",
       "      <th>4</th>\n",
       "      <td>1988</td>\n",
       "      <td>4</td>\n",
       "    </tr>\n",
       "  </tbody>\n",
       "</table>\n",
       "</div>"
      ],
      "text/plain": [
       "   year  tnf\n",
       "0  1984    1\n",
       "1  1985    4\n",
       "2  1986    5\n",
       "3  1987    1\n",
       "4  1988    4"
      ]
     },
     "execution_count": 83,
     "metadata": {},
     "output_type": "execute_result"
    }
   ],
   "source": [
    "tnf_sum = tnf_by_year.sum().reset_index()\n",
    "tnf_sum.rename(columns={\"citations\":\"tnf\"}, inplace=True)\n",
    "tnf_sum.head()"
   ]
  },
  {
   "cell_type": "markdown",
   "metadata": {
    "collapsed": true
   },
   "source": [
    "#### Gene: APOE"
   ]
  },
  {
   "cell_type": "code",
   "execution_count": 26,
   "metadata": {
    "collapsed": false
   },
   "outputs": [
    {
     "data": {
      "text/html": [
       "<div>\n",
       "<table border=\"1\" class=\"dataframe\">\n",
       "  <thead>\n",
       "    <tr style=\"text-align: right;\">\n",
       "      <th></th>\n",
       "      <th>taxId</th>\n",
       "      <th>geneId</th>\n",
       "      <th>year</th>\n",
       "      <th>symbol</th>\n",
       "      <th>geneName</th>\n",
       "      <th>geneType</th>\n",
       "      <th>citations</th>\n",
       "    </tr>\n",
       "  </thead>\n",
       "  <tbody>\n",
       "    <tr>\n",
       "      <th>3623</th>\n",
       "      <td>9913</td>\n",
       "      <td>281004</td>\n",
       "      <td>2002</td>\n",
       "      <td>APOE</td>\n",
       "      <td>apolipoprotein E</td>\n",
       "      <td>protein-coding</td>\n",
       "      <td>2</td>\n",
       "    </tr>\n",
       "    <tr>\n",
       "      <th>17679</th>\n",
       "      <td>9606</td>\n",
       "      <td>348</td>\n",
       "      <td>2009</td>\n",
       "      <td>APOE</td>\n",
       "      <td>apolipoprotein E</td>\n",
       "      <td>protein-coding</td>\n",
       "      <td>351</td>\n",
       "    </tr>\n",
       "    <tr>\n",
       "      <th>282088</th>\n",
       "      <td>9913</td>\n",
       "      <td>281004</td>\n",
       "      <td>2003</td>\n",
       "      <td>APOE</td>\n",
       "      <td>apolipoprotein E</td>\n",
       "      <td>protein-coding</td>\n",
       "      <td>2</td>\n",
       "    </tr>\n",
       "    <tr>\n",
       "      <th>296180</th>\n",
       "      <td>9606</td>\n",
       "      <td>348</td>\n",
       "      <td>1998</td>\n",
       "      <td>APOE</td>\n",
       "      <td>apolipoprotein E</td>\n",
       "      <td>protein-coding</td>\n",
       "      <td>6</td>\n",
       "    </tr>\n",
       "    <tr>\n",
       "      <th>296181</th>\n",
       "      <td>9606</td>\n",
       "      <td>348</td>\n",
       "      <td>2008</td>\n",
       "      <td>APOE</td>\n",
       "      <td>apolipoprotein E</td>\n",
       "      <td>protein-coding</td>\n",
       "      <td>327</td>\n",
       "    </tr>\n",
       "  </tbody>\n",
       "</table>\n",
       "</div>"
      ],
      "text/plain": [
       "        taxId  geneId  year symbol          geneName        geneType  \\\n",
       "3623     9913  281004  2002   APOE  apolipoprotein E  protein-coding   \n",
       "17679    9606     348  2009   APOE  apolipoprotein E  protein-coding   \n",
       "282088   9913  281004  2003   APOE  apolipoprotein E  protein-coding   \n",
       "296180   9606     348  1998   APOE  apolipoprotein E  protein-coding   \n",
       "296181   9606     348  2008   APOE  apolipoprotein E  protein-coding   \n",
       "\n",
       "        citations  \n",
       "3623            2  \n",
       "17679         351  \n",
       "282088          2  \n",
       "296180          6  \n",
       "296181        327  "
      ]
     },
     "execution_count": 26,
     "metadata": {},
     "output_type": "execute_result"
    }
   ],
   "source": [
    "apoe = geneDf[geneDf[\"symbol\"] == \"APOE\"]\n",
    "apoe.head()"
   ]
  },
  {
   "cell_type": "code",
   "execution_count": 27,
   "metadata": {
    "collapsed": false
   },
   "outputs": [
    {
     "name": "stdout",
     "output_type": "stream",
     "text": [
      "Total number of citations: 4021\n",
      "Number of entries: 79\n",
      "First year: 1973\n",
      "Last year: 2017\n"
     ]
    }
   ],
   "source": [
    "print(\"Total number of citations: \" + str(apoe[\"citations\"].sum()))\n",
    "print(\"Number of entries: \" + str(apoe[\"citations\"].count()))\n",
    "print(\"First year: \" + str(apoe[\"year\"].min()))\n",
    "print(\"Last year: \" + str(apoe[\"year\"].max()))"
   ]
  },
  {
   "cell_type": "code",
   "execution_count": 84,
   "metadata": {
    "collapsed": false
   },
   "outputs": [
    {
     "name": "stdout",
     "output_type": "stream",
     "text": [
      "Number of entries:       citations\n",
      "year           \n",
      "1987          2\n",
      "1988          1\n",
      "1989          3\n",
      "1990          2\n",
      "1991          2\n",
      "Number of citations:       citations\n",
      "year           \n",
      "1987          2\n",
      "1988          3\n",
      "1989          9\n",
      "1990          4\n",
      "1991          5\n"
     ]
    }
   ],
   "source": [
    "apoe_by_year = apoe.filter([\"year\",\"citations\"], axis=1).groupby(\"year\")\n",
    "print(\"Number of entries: \" + str(apoe_by_year.count()[10:15]))\n",
    "print(\"Number of citations: \" + str(apoe_by_year.sum()[10:15]))"
   ]
  },
  {
   "cell_type": "code",
   "execution_count": 85,
   "metadata": {
    "collapsed": false
   },
   "outputs": [
    {
     "data": {
      "text/html": [
       "<div>\n",
       "<table border=\"1\" class=\"dataframe\">\n",
       "  <thead>\n",
       "    <tr style=\"text-align: right;\">\n",
       "      <th></th>\n",
       "      <th>year</th>\n",
       "      <th>apoe</th>\n",
       "    </tr>\n",
       "  </thead>\n",
       "  <tbody>\n",
       "    <tr>\n",
       "      <th>0</th>\n",
       "      <td>1973</td>\n",
       "      <td>1</td>\n",
       "    </tr>\n",
       "    <tr>\n",
       "      <th>1</th>\n",
       "      <td>1978</td>\n",
       "      <td>2</td>\n",
       "    </tr>\n",
       "    <tr>\n",
       "      <th>2</th>\n",
       "      <td>1979</td>\n",
       "      <td>1</td>\n",
       "    </tr>\n",
       "    <tr>\n",
       "      <th>3</th>\n",
       "      <td>1980</td>\n",
       "      <td>1</td>\n",
       "    </tr>\n",
       "    <tr>\n",
       "      <th>4</th>\n",
       "      <td>1981</td>\n",
       "      <td>1</td>\n",
       "    </tr>\n",
       "  </tbody>\n",
       "</table>\n",
       "</div>"
      ],
      "text/plain": [
       "   year  apoe\n",
       "0  1973     1\n",
       "1  1978     2\n",
       "2  1979     1\n",
       "3  1980     1\n",
       "4  1981     1"
      ]
     },
     "execution_count": 85,
     "metadata": {},
     "output_type": "execute_result"
    }
   ],
   "source": [
    "apoe_sum = apoe_by_year.sum().reset_index()\n",
    "apoe_sum.rename(columns={\"citations\":\"apoe\"}, inplace=True)\n",
    "apoe_sum.head()"
   ]
  },
  {
   "cell_type": "markdown",
   "metadata": {},
   "source": [
    "### Join the summed data frames for CD4, TP53, GRB2, HBB, TNF and APOE on year"
   ]
  },
  {
   "cell_type": "code",
   "execution_count": 107,
   "metadata": {
    "collapsed": false
   },
   "outputs": [
    {
     "data": {
      "text/html": [
       "<div>\n",
       "<table border=\"1\" class=\"dataframe\">\n",
       "  <thead>\n",
       "    <tr style=\"text-align: right;\">\n",
       "      <th></th>\n",
       "      <th>year</th>\n",
       "      <th>cd4</th>\n",
       "      <th>tp53</th>\n",
       "      <th>grb2</th>\n",
       "      <th>hbb</th>\n",
       "      <th>tnf</th>\n",
       "      <th>apoe</th>\n",
       "    </tr>\n",
       "  </thead>\n",
       "  <tbody>\n",
       "    <tr>\n",
       "      <th>46</th>\n",
       "      <td>1978</td>\n",
       "      <td>NaN</td>\n",
       "      <td>NaN</td>\n",
       "      <td>NaN</td>\n",
       "      <td>5</td>\n",
       "      <td>NaN</td>\n",
       "      <td>2.0</td>\n",
       "    </tr>\n",
       "    <tr>\n",
       "      <th>47</th>\n",
       "      <td>1979</td>\n",
       "      <td>NaN</td>\n",
       "      <td>NaN</td>\n",
       "      <td>NaN</td>\n",
       "      <td>2</td>\n",
       "      <td>NaN</td>\n",
       "      <td>1.0</td>\n",
       "    </tr>\n",
       "    <tr>\n",
       "      <th>48</th>\n",
       "      <td>1980</td>\n",
       "      <td>NaN</td>\n",
       "      <td>NaN</td>\n",
       "      <td>NaN</td>\n",
       "      <td>8</td>\n",
       "      <td>NaN</td>\n",
       "      <td>1.0</td>\n",
       "    </tr>\n",
       "    <tr>\n",
       "      <th>49</th>\n",
       "      <td>1981</td>\n",
       "      <td>NaN</td>\n",
       "      <td>NaN</td>\n",
       "      <td>NaN</td>\n",
       "      <td>13</td>\n",
       "      <td>NaN</td>\n",
       "      <td>1.0</td>\n",
       "    </tr>\n",
       "    <tr>\n",
       "      <th>50</th>\n",
       "      <td>1982</td>\n",
       "      <td>NaN</td>\n",
       "      <td>NaN</td>\n",
       "      <td>NaN</td>\n",
       "      <td>9</td>\n",
       "      <td>NaN</td>\n",
       "      <td>4.0</td>\n",
       "    </tr>\n",
       "  </tbody>\n",
       "</table>\n",
       "</div>"
      ],
      "text/plain": [
       "    year  cd4  tp53  grb2  hbb  tnf  apoe\n",
       "46  1978  NaN   NaN   NaN    5  NaN   2.0\n",
       "47  1979  NaN   NaN   NaN    2  NaN   1.0\n",
       "48  1980  NaN   NaN   NaN    8  NaN   1.0\n",
       "49  1981  NaN   NaN   NaN   13  NaN   1.0\n",
       "50  1982  NaN   NaN   NaN    9  NaN   4.0"
      ]
     },
     "execution_count": 107,
     "metadata": {},
     "output_type": "execute_result"
    }
   ],
   "source": [
    "joined_all = pd.merge(cd4_sum, tp53_sum, on=\"year\", how=\"outer\")\n",
    "joined_all = joined_all.merge(grb2_sum, on=\"year\", how=\"outer\")\n",
    "joined_all = joined_all.merge(hbb_sum, on=\"year\", how=\"outer\")\n",
    "joined_all = joined_all.merge(tnf_sum, on=\"year\", how=\"outer\")\n",
    "joined_all = joined_all.merge(apoe_sum, on=\"year\", how=\"outer\")\n",
    "joined_all.tail()"
   ]
  },
  {
   "cell_type": "markdown",
   "metadata": {},
   "source": [
    "### Print out a csv"
   ]
  },
  {
   "cell_type": "code",
   "execution_count": 108,
   "metadata": {
    "collapsed": true
   },
   "outputs": [],
   "source": [
    "joined_all.to_csv(\"./joined_all.csv\")"
   ]
  },
  {
   "cell_type": "markdown",
   "metadata": {},
   "source": [
    "### How many unique genes symbols do we have?"
   ]
  },
  {
   "cell_type": "code",
   "execution_count": 30,
   "metadata": {
    "collapsed": false,
    "scrolled": false
   },
   "outputs": [
    {
     "data": {
      "text/plain": [
       "5366161"
      ]
     },
     "execution_count": 30,
     "metadata": {},
     "output_type": "execute_result"
    }
   ],
   "source": [
    "geneDf[\"symbol\"].unique().size"
   ]
  },
  {
   "cell_type": "markdown",
   "metadata": {},
   "source": [
    "### How many unique human gene symbols do we have?"
   ]
  },
  {
   "cell_type": "code",
   "execution_count": 42,
   "metadata": {
    "collapsed": false
   },
   "outputs": [
    {
     "data": {
      "text/plain": [
       "35717"
      ]
     },
     "execution_count": 42,
     "metadata": {},
     "output_type": "execute_result"
    }
   ],
   "source": [
    "geneDf[geneDf[\"taxId\"] == 9606][\"symbol\"].unique().size"
   ]
  },
  {
   "cell_type": "markdown",
   "metadata": {},
   "source": [
    "### Create a function to handle summing the citations by year"
   ]
  },
  {
   "cell_type": "code",
   "execution_count": 129,
   "metadata": {
    "collapsed": true
   },
   "outputs": [],
   "source": [
    "def sumByYear(df_in, geneSymbol):\n",
    "    \"\"\"Takes a data frame of lots of genes, selects our chosen gene by geneSymbol\n",
    "    groups by year, sums the citations and the returns a new data frame\n",
    "    \"\"\"\n",
    "    df_gene = df_in[df_in[\"symbol\"] == geneSymbol]\n",
    "    \n",
    "    print(\"\\n\")\n",
    "    print(geneSymbol + \" total number of citations: \" + str(df_gene[\"citations\"].sum()))\n",
    "    print(geneSymbol + \" number of entries: \" + str(df_gene[\"citations\"].count()))\n",
    "    print(geneSymbol + \" first year: \" + str(df_gene[\"year\"].min()))\n",
    "    print(geneSymbol + \" last year: \" + str(df_gene[\"year\"].max()))\n",
    "    print(\"\\n\")\n",
    "    \n",
    "    df_gene_by_year = df_gene.filter([\"year\",\"citations\"], axis=1).groupby(\"year\")\n",
    "    \n",
    "    df_gene_sum = df_gene_by_year.sum().reset_index()\n",
    "    df_gene_sum.rename(columns={\"citations\":geneSymbol}, inplace=True)\n",
    "    \n",
    "    return df_gene_sum"
   ]
  },
  {
   "cell_type": "markdown",
   "metadata": {},
   "source": [
    "### Sum each gene for all species as well as just human"
   ]
  },
  {
   "cell_type": "code",
   "execution_count": 150,
   "metadata": {
    "collapsed": false
   },
   "outputs": [
    {
     "name": "stdout",
     "output_type": "stream",
     "text": [
      "\n",
      "\n",
      "CD4 total number of citations: 2001\n",
      "CD4 number of entries: 81\n",
      "CD4 first year: 1984\n",
      "CD4 last year: 2017\n",
      "\n",
      "\n",
      "\n",
      "\n",
      "TP53 total number of citations: 8572\n",
      "TP53 number of entries: 107\n",
      "TP53 first year: 1976\n",
      "TP53 last year: 2017\n",
      "\n",
      "\n",
      "\n",
      "\n",
      "GRB2 total number of citations: 772\n",
      "GRB2 number of entries: 52\n",
      "GRB2 first year: 1977\n",
      "GRB2 last year: 2017\n",
      "\n",
      "\n",
      "\n",
      "\n",
      "HBB total number of citations: 758\n",
      "HBB number of entries: 89\n",
      "HBB first year: 1961\n",
      "HBB last year: 2017\n",
      "\n",
      "\n",
      "\n",
      "\n",
      "TNF total number of citations: 5499\n",
      "TNF number of entries: 140\n",
      "TNF first year: 1984\n",
      "TNF last year: 2017\n",
      "\n",
      "\n",
      "\n",
      "\n",
      "APOE total number of citations: 4021\n",
      "APOE number of entries: 79\n",
      "APOE first year: 1973\n",
      "APOE last year: 2017\n",
      "\n",
      "\n"
     ]
    }
   ],
   "source": [
    "cd4_summed = sumByYear(geneDf, \"CD4\")\n",
    "tp53_summed = sumByYear(geneDf, \"TP53\")\n",
    "grb2_summed = sumByYear(geneDf, \"GRB2\")\n",
    "hbb_summed = sumByYear(geneDf, \"HBB\")\n",
    "tnf_summed = sumByYear(geneDf, \"TNF\")\n",
    "apoe_summed = sumByYear(geneDf, \"APOE\")"
   ]
  },
  {
   "cell_type": "code",
   "execution_count": 151,
   "metadata": {
    "collapsed": false
   },
   "outputs": [
    {
     "name": "stdout",
     "output_type": "stream",
     "text": [
      "\n",
      "\n",
      "CD4 total number of citations: 1953\n",
      "CD4 number of entries: 34\n",
      "CD4 first year: 1984\n",
      "CD4 last year: 2017\n",
      "\n",
      "\n",
      "\n",
      "\n",
      "TP53 total number of citations: 8479\n",
      "TP53 number of entries: 35\n",
      "TP53 first year: 1976\n",
      "TP53 last year: 2017\n",
      "\n",
      "\n",
      "\n",
      "\n",
      "GRB2 total number of citations: 747\n",
      "GRB2 number of entries: 27\n",
      "GRB2 first year: 1977\n",
      "GRB2 last year: 2017\n",
      "\n",
      "\n",
      "\n",
      "\n",
      "HBB total number of citations: 712\n",
      "HBB number of entries: 46\n",
      "HBB first year: 1961\n",
      "HBB last year: 2017\n",
      "\n",
      "\n",
      "\n",
      "\n",
      "TNF total number of citations: 5314\n",
      "TNF number of entries: 34\n",
      "TNF first year: 1984\n",
      "TNF last year: 2017\n",
      "\n",
      "\n",
      "\n",
      "\n",
      "APOE total number of citations: 3977\n",
      "APOE number of entries: 40\n",
      "APOE first year: 1973\n",
      "APOE last year: 2017\n",
      "\n",
      "\n"
     ]
    }
   ],
   "source": [
    "cd4_human_summed = sumByYear(geneDf[geneDf[\"taxId\"] == 9606], \"CD4\")\n",
    "tp53_human_summed = sumByYear(geneDf[geneDf[\"taxId\"] == 9606], \"TP53\")\n",
    "grb2_human_summed = sumByYear(geneDf[geneDf[\"taxId\"] == 9606], \"GRB2\")\n",
    "hbb_human_summed = sumByYear(geneDf[geneDf[\"taxId\"] == 9606], \"HBB\")\n",
    "tnf_human_summed = sumByYear(geneDf[geneDf[\"taxId\"] == 9606], \"TNF\")\n",
    "apoe_human_summed = sumByYear(geneDf[geneDf[\"taxId\"] == 9606], \"APOE\")"
   ]
  },
  {
   "cell_type": "markdown",
   "metadata": {
    "collapsed": true
   },
   "source": [
    "### Get the total amount of citations for each year for all species and just human genes"
   ]
  },
  {
   "cell_type": "code",
   "execution_count": 165,
   "metadata": {
    "collapsed": false
   },
   "outputs": [
    {
     "data": {
      "text/html": [
       "<div>\n",
       "<table border=\"1\" class=\"dataframe\">\n",
       "  <thead>\n",
       "    <tr style=\"text-align: right;\">\n",
       "      <th></th>\n",
       "      <th>year</th>\n",
       "      <th>citations</th>\n",
       "    </tr>\n",
       "  </thead>\n",
       "  <tbody>\n",
       "    <tr>\n",
       "      <th>92</th>\n",
       "      <td>2013</td>\n",
       "      <td>759035</td>\n",
       "    </tr>\n",
       "    <tr>\n",
       "      <th>93</th>\n",
       "      <td>2014</td>\n",
       "      <td>954697</td>\n",
       "    </tr>\n",
       "    <tr>\n",
       "      <th>94</th>\n",
       "      <td>2015</td>\n",
       "      <td>721942</td>\n",
       "    </tr>\n",
       "    <tr>\n",
       "      <th>95</th>\n",
       "      <td>2016</td>\n",
       "      <td>647288</td>\n",
       "    </tr>\n",
       "    <tr>\n",
       "      <th>96</th>\n",
       "      <td>2017</td>\n",
       "      <td>147027</td>\n",
       "    </tr>\n",
       "  </tbody>\n",
       "</table>\n",
       "</div>"
      ],
      "text/plain": [
       "    year  citations\n",
       "92  2013     759035\n",
       "93  2014     954697\n",
       "94  2015     721942\n",
       "95  2016     647288\n",
       "96  2017     147027"
      ]
     },
     "execution_count": 165,
     "metadata": {},
     "output_type": "execute_result"
    }
   ],
   "source": [
    "all_genes_by_year = geneDf.filter([\"year\",\"citations\"], axis=1).groupby(\"year\")\n",
    "all_genes_by_year_summed = all_genes_by_year.sum().reset_index()\n",
    "all_genes_by_year_summed.tail()"
   ]
  },
  {
   "cell_type": "code",
   "execution_count": 166,
   "metadata": {
    "collapsed": false
   },
   "outputs": [
    {
     "data": {
      "text/html": [
       "<div>\n",
       "<table border=\"1\" class=\"dataframe\">\n",
       "  <thead>\n",
       "    <tr style=\"text-align: right;\">\n",
       "      <th></th>\n",
       "      <th>year</th>\n",
       "      <th>citations</th>\n",
       "    </tr>\n",
       "  </thead>\n",
       "  <tbody>\n",
       "    <tr>\n",
       "      <th>64</th>\n",
       "      <td>2013</td>\n",
       "      <td>81353</td>\n",
       "    </tr>\n",
       "    <tr>\n",
       "      <th>65</th>\n",
       "      <td>2014</td>\n",
       "      <td>84919</td>\n",
       "    </tr>\n",
       "    <tr>\n",
       "      <th>66</th>\n",
       "      <td>2015</td>\n",
       "      <td>93137</td>\n",
       "    </tr>\n",
       "    <tr>\n",
       "      <th>67</th>\n",
       "      <td>2016</td>\n",
       "      <td>51633</td>\n",
       "    </tr>\n",
       "    <tr>\n",
       "      <th>68</th>\n",
       "      <td>2017</td>\n",
       "      <td>29441</td>\n",
       "    </tr>\n",
       "  </tbody>\n",
       "</table>\n",
       "</div>"
      ],
      "text/plain": [
       "    year  citations\n",
       "64  2013      81353\n",
       "65  2014      84919\n",
       "66  2015      93137\n",
       "67  2016      51633\n",
       "68  2017      29441"
      ]
     },
     "execution_count": 166,
     "metadata": {},
     "output_type": "execute_result"
    }
   ],
   "source": [
    "human_genes_by_year = geneDf[geneDf[\"taxId\"] == 9606].filter([\"year\",\"citations\"], axis=1).groupby(\"year\")\n",
    "human_genes_by_year_summed = human_genes_by_year.sum().reset_index()\n",
    "human_genes_by_year_summed.tail()"
   ]
  },
  {
   "cell_type": "markdown",
   "metadata": {},
   "source": [
    "### Join the total and gene specific sums together"
   ]
  },
  {
   "cell_type": "code",
   "execution_count": 169,
   "metadata": {
    "collapsed": false
   },
   "outputs": [
    {
     "data": {
      "text/html": [
       "<div>\n",
       "<table border=\"1\" class=\"dataframe\">\n",
       "  <thead>\n",
       "    <tr style=\"text-align: right;\">\n",
       "      <th></th>\n",
       "      <th>year</th>\n",
       "      <th>cd4</th>\n",
       "      <th>tp53</th>\n",
       "      <th>grb2</th>\n",
       "      <th>hbb</th>\n",
       "      <th>tnf</th>\n",
       "      <th>apoe</th>\n",
       "      <th>citations</th>\n",
       "    </tr>\n",
       "  </thead>\n",
       "  <tbody>\n",
       "    <tr>\n",
       "      <th>51</th>\n",
       "      <td>1920</td>\n",
       "      <td>0.0</td>\n",
       "      <td>0.0</td>\n",
       "      <td>0.0</td>\n",
       "      <td>0.0</td>\n",
       "      <td>0.0</td>\n",
       "      <td>0.0</td>\n",
       "      <td>3</td>\n",
       "    </tr>\n",
       "    <tr>\n",
       "      <th>52</th>\n",
       "      <td>1921</td>\n",
       "      <td>0.0</td>\n",
       "      <td>0.0</td>\n",
       "      <td>0.0</td>\n",
       "      <td>0.0</td>\n",
       "      <td>0.0</td>\n",
       "      <td>0.0</td>\n",
       "      <td>7</td>\n",
       "    </tr>\n",
       "    <tr>\n",
       "      <th>53</th>\n",
       "      <td>1923</td>\n",
       "      <td>0.0</td>\n",
       "      <td>0.0</td>\n",
       "      <td>0.0</td>\n",
       "      <td>0.0</td>\n",
       "      <td>0.0</td>\n",
       "      <td>0.0</td>\n",
       "      <td>4</td>\n",
       "    </tr>\n",
       "    <tr>\n",
       "      <th>54</th>\n",
       "      <td>1924</td>\n",
       "      <td>0.0</td>\n",
       "      <td>0.0</td>\n",
       "      <td>0.0</td>\n",
       "      <td>0.0</td>\n",
       "      <td>0.0</td>\n",
       "      <td>0.0</td>\n",
       "      <td>17</td>\n",
       "    </tr>\n",
       "    <tr>\n",
       "      <th>55</th>\n",
       "      <td>1925</td>\n",
       "      <td>0.0</td>\n",
       "      <td>0.0</td>\n",
       "      <td>0.0</td>\n",
       "      <td>0.0</td>\n",
       "      <td>0.0</td>\n",
       "      <td>0.0</td>\n",
       "      <td>4</td>\n",
       "    </tr>\n",
       "  </tbody>\n",
       "</table>\n",
       "</div>"
      ],
      "text/plain": [
       "    year  cd4  tp53  grb2  hbb  tnf  apoe  citations\n",
       "51  1920  0.0   0.0   0.0  0.0  0.0   0.0          3\n",
       "52  1921  0.0   0.0   0.0  0.0  0.0   0.0          7\n",
       "53  1923  0.0   0.0   0.0  0.0  0.0   0.0          4\n",
       "54  1924  0.0   0.0   0.0  0.0  0.0   0.0         17\n",
       "55  1925  0.0   0.0   0.0  0.0  0.0   0.0          4"
      ]
     },
     "execution_count": 169,
     "metadata": {},
     "output_type": "execute_result"
    }
   ],
   "source": [
    "summed_all = pd.merge(cd4_summed, tp53_summed, on=\"year\", how=\"outer\")\n",
    "summed_all = joined_all.merge(grb2_summed, on=\"year\", how=\"outer\")\n",
    "summed_all = joined_all.merge(hbb_summed, on=\"year\", how=\"outer\")\n",
    "summed_all = joined_all.merge(tnf_summed, on=\"year\", how=\"outer\")\n",
    "summed_all = joined_all.merge(apoe_summed, on=\"year\", how=\"outer\")\n",
    "summed_all = joined_all.merge(all_genes_by_year_summed, on=\"year\", how=\"outer\")\n",
    "summed_all_fill = summed_all.fillna(0).sort_values(\"year\")\n",
    "summed_all_fill_sort.head()"
   ]
  },
  {
   "cell_type": "code",
   "execution_count": 170,
   "metadata": {
    "collapsed": false
   },
   "outputs": [
    {
     "data": {
      "text/html": [
       "<div>\n",
       "<table border=\"1\" class=\"dataframe\">\n",
       "  <thead>\n",
       "    <tr style=\"text-align: right;\">\n",
       "      <th></th>\n",
       "      <th>year</th>\n",
       "      <th>cd4</th>\n",
       "      <th>tp53</th>\n",
       "      <th>grb2</th>\n",
       "      <th>hbb</th>\n",
       "      <th>tnf</th>\n",
       "      <th>apoe</th>\n",
       "      <th>citations</th>\n",
       "    </tr>\n",
       "  </thead>\n",
       "  <tbody>\n",
       "    <tr>\n",
       "      <th>51</th>\n",
       "      <td>1930</td>\n",
       "      <td>0.0</td>\n",
       "      <td>0.0</td>\n",
       "      <td>0.0</td>\n",
       "      <td>0.0</td>\n",
       "      <td>0.0</td>\n",
       "      <td>0.0</td>\n",
       "      <td>3</td>\n",
       "    </tr>\n",
       "    <tr>\n",
       "      <th>52</th>\n",
       "      <td>1946</td>\n",
       "      <td>0.0</td>\n",
       "      <td>0.0</td>\n",
       "      <td>0.0</td>\n",
       "      <td>0.0</td>\n",
       "      <td>0.0</td>\n",
       "      <td>0.0</td>\n",
       "      <td>1</td>\n",
       "    </tr>\n",
       "    <tr>\n",
       "      <th>53</th>\n",
       "      <td>1948</td>\n",
       "      <td>0.0</td>\n",
       "      <td>0.0</td>\n",
       "      <td>0.0</td>\n",
       "      <td>0.0</td>\n",
       "      <td>0.0</td>\n",
       "      <td>0.0</td>\n",
       "      <td>1</td>\n",
       "    </tr>\n",
       "    <tr>\n",
       "      <th>54</th>\n",
       "      <td>1950</td>\n",
       "      <td>0.0</td>\n",
       "      <td>0.0</td>\n",
       "      <td>0.0</td>\n",
       "      <td>0.0</td>\n",
       "      <td>0.0</td>\n",
       "      <td>0.0</td>\n",
       "      <td>1</td>\n",
       "    </tr>\n",
       "    <tr>\n",
       "      <th>55</th>\n",
       "      <td>1952</td>\n",
       "      <td>0.0</td>\n",
       "      <td>0.0</td>\n",
       "      <td>0.0</td>\n",
       "      <td>0.0</td>\n",
       "      <td>0.0</td>\n",
       "      <td>0.0</td>\n",
       "      <td>1</td>\n",
       "    </tr>\n",
       "  </tbody>\n",
       "</table>\n",
       "</div>"
      ],
      "text/plain": [
       "    year  cd4  tp53  grb2  hbb  tnf  apoe  citations\n",
       "51  1930  0.0   0.0   0.0  0.0  0.0   0.0          3\n",
       "52  1946  0.0   0.0   0.0  0.0  0.0   0.0          1\n",
       "53  1948  0.0   0.0   0.0  0.0  0.0   0.0          1\n",
       "54  1950  0.0   0.0   0.0  0.0  0.0   0.0          1\n",
       "55  1952  0.0   0.0   0.0  0.0  0.0   0.0          1"
      ]
     },
     "execution_count": 170,
     "metadata": {},
     "output_type": "execute_result"
    }
   ],
   "source": [
    "summed_human = pd.merge(cd4_human_summed, tp53_human_summed, on=\"year\", how=\"outer\")\n",
    "summed_human = joined_all.merge(grb2_human_summed, on=\"year\", how=\"outer\")\n",
    "summed_human = joined_all.merge(hbb_human_summed, on=\"year\", how=\"outer\")\n",
    "summed_human = joined_all.merge(tnf_human_summed, on=\"year\", how=\"outer\")\n",
    "summed_human = joined_all.merge(apoe_human_summed, on=\"year\", how=\"outer\")\n",
    "summed_human = joined_all.merge(human_genes_by_year_summed, on=\"year\", how=\"outer\")\n",
    "summed_human_fill = summed_human.fillna(0).sort_values(\"year\")\n",
    "summed_human_fill.head()"
   ]
  },
  {
   "cell_type": "markdown",
   "metadata": {},
   "source": [
    "### Export to CSV"
   ]
  },
  {
   "cell_type": "code",
   "execution_count": 171,
   "metadata": {
    "collapsed": true
   },
   "outputs": [],
   "source": [
    "summed_all_fill.to_csv(\"./summed_all_fill.csv\")\n",
    "summed_human_fill.to_csv(\"./summed_human_fill.csv\")"
   ]
  },
  {
   "cell_type": "code",
   "execution_count": null,
   "metadata": {
    "collapsed": true
   },
   "outputs": [],
   "source": []
  }
 ],
 "metadata": {
  "kernelspec": {
   "display_name": "Python 2",
   "language": "python",
   "name": "python2"
  },
  "language_info": {
   "codemirror_mode": {
    "name": "ipython",
    "version": 2
   },
   "file_extension": ".py",
   "mimetype": "text/x-python",
   "name": "python",
   "nbconvert_exporter": "python",
   "pygments_lexer": "ipython2",
   "version": "2.7.13"
  }
 },
 "nbformat": 4,
 "nbformat_minor": 2
}
