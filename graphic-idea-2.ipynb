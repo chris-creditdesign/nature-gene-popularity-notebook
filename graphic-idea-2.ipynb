{
 "cells": [
  {
   "cell_type": "markdown",
   "metadata": {},
   "source": [
    "### Count number of lines"
   ]
  },
  {
   "cell_type": "code",
   "execution_count": 1,
   "metadata": {
    "collapsed": false
   },
   "outputs": [
    {
     "name": "stdout",
     "output_type": "stream",
     "text": [
      " 7999317 ./data/graphic-idea-2.tsv\r\n"
     ]
    }
   ],
   "source": [
    "! wc -l \"./data/graphic-idea-2.tsv\""
   ]
  },
  {
   "cell_type": "markdown",
   "metadata": {},
   "source": [
    "### Import Pandas"
   ]
  },
  {
   "cell_type": "code",
   "execution_count": 2,
   "metadata": {
    "collapsed": true
   },
   "outputs": [],
   "source": [
    "import pandas as pd\n",
    "import numpy as np\n",
    "import matplotlib.pyplot as plt\n",
    "pd.set_option(\"max_columns\", 50)\n",
    "%matplotlib inline"
   ]
  },
  {
   "cell_type": "markdown",
   "metadata": {},
   "source": [
    "### Load the csv into a DataFrame"
   ]
  },
  {
   "cell_type": "code",
   "execution_count": 3,
   "metadata": {
    "collapsed": false
   },
   "outputs": [
    {
     "data": {
      "text/html": [
       "<div>\n",
       "<table border=\"1\" class=\"dataframe\">\n",
       "  <thead>\n",
       "    <tr style=\"text-align: right;\">\n",
       "      <th></th>\n",
       "      <th>taxId</th>\n",
       "      <th>geneId</th>\n",
       "      <th>year</th>\n",
       "      <th>symbol</th>\n",
       "      <th>geneName</th>\n",
       "      <th>geneType</th>\n",
       "      <th>citations</th>\n",
       "    </tr>\n",
       "  </thead>\n",
       "  <tbody>\n",
       "    <tr>\n",
       "      <th>0</th>\n",
       "      <td>287</td>\n",
       "      <td>20712569</td>\n",
       "      <td>2011</td>\n",
       "      <td>D703_p4014</td>\n",
       "      <td>hypothetical protein</td>\n",
       "      <td>protein-coding</td>\n",
       "      <td>1</td>\n",
       "    </tr>\n",
       "    <tr>\n",
       "      <th>1</th>\n",
       "      <td>359</td>\n",
       "      <td>874703</td>\n",
       "      <td>2001</td>\n",
       "      <td>riorf119</td>\n",
       "      <td>riorf119</td>\n",
       "      <td>protein-coding</td>\n",
       "      <td>1</td>\n",
       "    </tr>\n",
       "    <tr>\n",
       "      <th>2</th>\n",
       "      <td>394</td>\n",
       "      <td>7789576</td>\n",
       "      <td>2009</td>\n",
       "      <td>NGR_b00360</td>\n",
       "      <td>hypothetical protein</td>\n",
       "      <td>protein-coding</td>\n",
       "      <td>1</td>\n",
       "    </tr>\n",
       "    <tr>\n",
       "      <th>3</th>\n",
       "      <td>562</td>\n",
       "      <td>20466744</td>\n",
       "      <td>2015</td>\n",
       "      <td>orf00008</td>\n",
       "      <td>hypothetical protein</td>\n",
       "      <td>protein-coding</td>\n",
       "      <td>1</td>\n",
       "    </tr>\n",
       "    <tr>\n",
       "      <th>4</th>\n",
       "      <td>573</td>\n",
       "      <td>15230191</td>\n",
       "      <td>2015</td>\n",
       "      <td>D647_p21159</td>\n",
       "      <td>adenine-specific methyltransferase</td>\n",
       "      <td>protein-coding</td>\n",
       "      <td>1</td>\n",
       "    </tr>\n",
       "  </tbody>\n",
       "</table>\n",
       "</div>"
      ],
      "text/plain": [
       "   taxId    geneId  year       symbol                            geneName  \\\n",
       "0    287  20712569  2011   D703_p4014                hypothetical protein   \n",
       "1    359    874703  2001     riorf119                            riorf119   \n",
       "2    394   7789576  2009   NGR_b00360                hypothetical protein   \n",
       "3    562  20466744  2015     orf00008                hypothetical protein   \n",
       "4    573  15230191  2015  D647_p21159  adenine-specific methyltransferase   \n",
       "\n",
       "         geneType  citations  \n",
       "0  protein-coding          1  \n",
       "1  protein-coding          1  \n",
       "2  protein-coding          1  \n",
       "3  protein-coding          1  \n",
       "4  protein-coding          1  "
      ]
     },
     "execution_count": 3,
     "metadata": {},
     "output_type": "execute_result"
    }
   ],
   "source": [
    "cols = [\"taxId\", \"geneId\", \"year\", \"symbol\", \"geneName\", \"geneType\", \"citations\"]\n",
    "\n",
    "geneDf = pd.read_table(\"./data/graphic-idea-2.tsv\", header=None, names=cols)\n",
    "\n",
    "geneDf.head()"
   ]
  },
  {
   "cell_type": "markdown",
   "metadata": {},
   "source": [
    "### Examine the Genes"
   ]
  },
  {
   "cell_type": "markdown",
   "metadata": {},
   "source": [
    "How many unique genes symbols do we have?"
   ]
  },
  {
   "cell_type": "code",
   "execution_count": 4,
   "metadata": {
    "collapsed": false,
    "scrolled": false
   },
   "outputs": [
    {
     "data": {
      "text/plain": [
       "5366161"
      ]
     },
     "execution_count": 4,
     "metadata": {},
     "output_type": "execute_result"
    }
   ],
   "source": [
    "geneDf[\"symbol\"].unique().size"
   ]
  },
  {
   "cell_type": "markdown",
   "metadata": {},
   "source": [
    "How many unique human gene symbols do we have?"
   ]
  },
  {
   "cell_type": "code",
   "execution_count": 5,
   "metadata": {
    "collapsed": false
   },
   "outputs": [
    {
     "data": {
      "text/plain": [
       "35717"
      ]
     },
     "execution_count": 5,
     "metadata": {},
     "output_type": "execute_result"
    }
   ],
   "source": [
    "geneDf[geneDf[\"taxId\"] == 9606][\"symbol\"].unique().size"
   ]
  },
  {
   "cell_type": "markdown",
   "metadata": {},
   "source": [
    "### Create a function to handle summing the citations by year"
   ]
  },
  {
   "cell_type": "code",
   "execution_count": 6,
   "metadata": {
    "collapsed": true
   },
   "outputs": [],
   "source": [
    "def sumByYear(df_in, geneSymbol):\n",
    "    \"\"\"Takes a data frame of lots of genes, selects our chosen gene by geneSymbol\n",
    "    groups by year, sums the citations and the returns a new data frame\n",
    "    \"\"\"\n",
    "    df_gene = df_in[df_in[\"symbol\"] == geneSymbol]\n",
    "    \n",
    "    print(\"\\n\")\n",
    "    print(geneSymbol + \" total number of citations: \" + str(df_gene[\"citations\"].sum()))\n",
    "    print(geneSymbol + \" number of entries: \" + str(df_gene[\"citations\"].count()))\n",
    "    print(geneSymbol + \" first year: \" + str(df_gene[\"year\"].min()))\n",
    "    print(geneSymbol + \" last year: \" + str(df_gene[\"year\"].max()))\n",
    "    print(\"\\n\")\n",
    "    \n",
    "    df_gene_by_year = df_gene.filter([\"year\",\"citations\"], axis=1).groupby(\"year\")\n",
    "    \n",
    "    df_gene_sum = df_gene_by_year.sum().reset_index()\n",
    "    df_gene_sum.rename(columns={\"citations\":geneSymbol}, inplace=True)\n",
    "    \n",
    "    return df_gene_sum"
   ]
  },
  {
   "cell_type": "markdown",
   "metadata": {},
   "source": [
    "### Sum each gene for all species"
   ]
  },
  {
   "cell_type": "code",
   "execution_count": 7,
   "metadata": {
    "collapsed": false
   },
   "outputs": [
    {
     "name": "stdout",
     "output_type": "stream",
     "text": [
      "\n",
      "\n",
      "CD4 total number of citations: 2001\n",
      "CD4 number of entries: 81\n",
      "CD4 first year: 1984\n",
      "CD4 last year: 2017\n",
      "\n",
      "\n",
      "\n",
      "\n",
      "TP53 total number of citations: 8572\n",
      "TP53 number of entries: 107\n",
      "TP53 first year: 1976\n",
      "TP53 last year: 2017\n",
      "\n",
      "\n",
      "\n",
      "\n",
      "GRB2 total number of citations: 772\n",
      "GRB2 number of entries: 52\n",
      "GRB2 first year: 1977\n",
      "GRB2 last year: 2017\n",
      "\n",
      "\n",
      "\n",
      "\n",
      "HBB total number of citations: 758\n",
      "HBB number of entries: 89\n",
      "HBB first year: 1961\n",
      "HBB last year: 2017\n",
      "\n",
      "\n",
      "\n",
      "\n",
      "TNF total number of citations: 5499\n",
      "TNF number of entries: 140\n",
      "TNF first year: 1984\n",
      "TNF last year: 2017\n",
      "\n",
      "\n",
      "\n",
      "\n",
      "APOE total number of citations: 4021\n",
      "APOE number of entries: 79\n",
      "APOE first year: 1973\n",
      "APOE last year: 2017\n",
      "\n",
      "\n"
     ]
    }
   ],
   "source": [
    "cd4_summed = sumByYear(geneDf, \"CD4\")\n",
    "tp53_summed = sumByYear(geneDf, \"TP53\")\n",
    "grb2_summed = sumByYear(geneDf, \"GRB2\")\n",
    "hbb_summed = sumByYear(geneDf, \"HBB\")\n",
    "tnf_summed = sumByYear(geneDf, \"TNF\")\n",
    "apoe_summed = sumByYear(geneDf, \"APOE\")"
   ]
  },
  {
   "cell_type": "markdown",
   "metadata": {},
   "source": [
    "### Sum each gene for just human genes"
   ]
  },
  {
   "cell_type": "code",
   "execution_count": 8,
   "metadata": {
    "collapsed": false
   },
   "outputs": [
    {
     "name": "stdout",
     "output_type": "stream",
     "text": [
      "\n",
      "\n",
      "CD4 total number of citations: 1953\n",
      "CD4 number of entries: 34\n",
      "CD4 first year: 1984\n",
      "CD4 last year: 2017\n",
      "\n",
      "\n",
      "\n",
      "\n",
      "TP53 total number of citations: 8479\n",
      "TP53 number of entries: 35\n",
      "TP53 first year: 1976\n",
      "TP53 last year: 2017\n",
      "\n",
      "\n",
      "\n",
      "\n",
      "GRB2 total number of citations: 747\n",
      "GRB2 number of entries: 27\n",
      "GRB2 first year: 1977\n",
      "GRB2 last year: 2017\n",
      "\n",
      "\n",
      "\n",
      "\n",
      "HBB total number of citations: 712\n",
      "HBB number of entries: 46\n",
      "HBB first year: 1961\n",
      "HBB last year: 2017\n",
      "\n",
      "\n",
      "\n",
      "\n",
      "TNF total number of citations: 5314\n",
      "TNF number of entries: 34\n",
      "TNF first year: 1984\n",
      "TNF last year: 2017\n",
      "\n",
      "\n",
      "\n",
      "\n",
      "APOE total number of citations: 3977\n",
      "APOE number of entries: 40\n",
      "APOE first year: 1973\n",
      "APOE last year: 2017\n",
      "\n",
      "\n"
     ]
    }
   ],
   "source": [
    "cd4_human_summed = sumByYear(geneDf[geneDf[\"taxId\"] == 9606], \"CD4\")\n",
    "tp53_human_summed = sumByYear(geneDf[geneDf[\"taxId\"] == 9606], \"TP53\")\n",
    "grb2_human_summed = sumByYear(geneDf[geneDf[\"taxId\"] == 9606], \"GRB2\")\n",
    "hbb_human_summed = sumByYear(geneDf[geneDf[\"taxId\"] == 9606], \"HBB\")\n",
    "tnf_human_summed = sumByYear(geneDf[geneDf[\"taxId\"] == 9606], \"TNF\")\n",
    "apoe_human_summed = sumByYear(geneDf[geneDf[\"taxId\"] == 9606], \"APOE\")"
   ]
  },
  {
   "cell_type": "markdown",
   "metadata": {
    "collapsed": true
   },
   "source": [
    "### Get the total amount of citations for each year for all species and just human genes"
   ]
  },
  {
   "cell_type": "code",
   "execution_count": 9,
   "metadata": {
    "collapsed": false
   },
   "outputs": [
    {
     "data": {
      "text/html": [
       "<div>\n",
       "<table border=\"1\" class=\"dataframe\">\n",
       "  <thead>\n",
       "    <tr style=\"text-align: right;\">\n",
       "      <th></th>\n",
       "      <th>year</th>\n",
       "      <th>citations</th>\n",
       "    </tr>\n",
       "  </thead>\n",
       "  <tbody>\n",
       "    <tr>\n",
       "      <th>92</th>\n",
       "      <td>2013</td>\n",
       "      <td>759035</td>\n",
       "    </tr>\n",
       "    <tr>\n",
       "      <th>93</th>\n",
       "      <td>2014</td>\n",
       "      <td>954697</td>\n",
       "    </tr>\n",
       "    <tr>\n",
       "      <th>94</th>\n",
       "      <td>2015</td>\n",
       "      <td>721942</td>\n",
       "    </tr>\n",
       "    <tr>\n",
       "      <th>95</th>\n",
       "      <td>2016</td>\n",
       "      <td>647288</td>\n",
       "    </tr>\n",
       "    <tr>\n",
       "      <th>96</th>\n",
       "      <td>2017</td>\n",
       "      <td>147027</td>\n",
       "    </tr>\n",
       "  </tbody>\n",
       "</table>\n",
       "</div>"
      ],
      "text/plain": [
       "    year  citations\n",
       "92  2013     759035\n",
       "93  2014     954697\n",
       "94  2015     721942\n",
       "95  2016     647288\n",
       "96  2017     147027"
      ]
     },
     "execution_count": 9,
     "metadata": {},
     "output_type": "execute_result"
    }
   ],
   "source": [
    "all_genes_by_year = geneDf.filter([\"year\",\"citations\"], axis=1).groupby(\"year\")\n",
    "all_genes_by_year_summed = all_genes_by_year.sum().reset_index()\n",
    "all_genes_by_year_summed.tail()"
   ]
  },
  {
   "cell_type": "code",
   "execution_count": 10,
   "metadata": {
    "collapsed": false
   },
   "outputs": [
    {
     "data": {
      "text/html": [
       "<div>\n",
       "<table border=\"1\" class=\"dataframe\">\n",
       "  <thead>\n",
       "    <tr style=\"text-align: right;\">\n",
       "      <th></th>\n",
       "      <th>year</th>\n",
       "      <th>citations</th>\n",
       "    </tr>\n",
       "  </thead>\n",
       "  <tbody>\n",
       "    <tr>\n",
       "      <th>64</th>\n",
       "      <td>2013</td>\n",
       "      <td>81353</td>\n",
       "    </tr>\n",
       "    <tr>\n",
       "      <th>65</th>\n",
       "      <td>2014</td>\n",
       "      <td>84919</td>\n",
       "    </tr>\n",
       "    <tr>\n",
       "      <th>66</th>\n",
       "      <td>2015</td>\n",
       "      <td>93137</td>\n",
       "    </tr>\n",
       "    <tr>\n",
       "      <th>67</th>\n",
       "      <td>2016</td>\n",
       "      <td>51633</td>\n",
       "    </tr>\n",
       "    <tr>\n",
       "      <th>68</th>\n",
       "      <td>2017</td>\n",
       "      <td>29441</td>\n",
       "    </tr>\n",
       "  </tbody>\n",
       "</table>\n",
       "</div>"
      ],
      "text/plain": [
       "    year  citations\n",
       "64  2013      81353\n",
       "65  2014      84919\n",
       "66  2015      93137\n",
       "67  2016      51633\n",
       "68  2017      29441"
      ]
     },
     "execution_count": 10,
     "metadata": {},
     "output_type": "execute_result"
    }
   ],
   "source": [
    "human_genes_by_year = geneDf[geneDf[\"taxId\"] == 9606].filter([\"year\",\"citations\"], axis=1).groupby(\"year\")\n",
    "human_genes_by_year_summed = human_genes_by_year.sum().reset_index()\n",
    "human_genes_by_year_summed.tail()"
   ]
  },
  {
   "cell_type": "markdown",
   "metadata": {},
   "source": [
    "### Join the total and gene specific sums together"
   ]
  },
  {
   "cell_type": "code",
   "execution_count": 11,
   "metadata": {
    "collapsed": false
   },
   "outputs": [
    {
     "data": {
      "text/html": [
       "<div>\n",
       "<table border=\"1\" class=\"dataframe\">\n",
       "  <thead>\n",
       "    <tr style=\"text-align: right;\">\n",
       "      <th></th>\n",
       "      <th>year</th>\n",
       "      <th>CD4</th>\n",
       "      <th>TP53</th>\n",
       "      <th>GRB2</th>\n",
       "      <th>HBB</th>\n",
       "      <th>TNF</th>\n",
       "      <th>APOE</th>\n",
       "      <th>citations</th>\n",
       "    </tr>\n",
       "  </thead>\n",
       "  <tbody>\n",
       "    <tr>\n",
       "      <th>51</th>\n",
       "      <td>1920</td>\n",
       "      <td>0.0</td>\n",
       "      <td>0.0</td>\n",
       "      <td>0.0</td>\n",
       "      <td>0.0</td>\n",
       "      <td>0.0</td>\n",
       "      <td>0.0</td>\n",
       "      <td>3</td>\n",
       "    </tr>\n",
       "    <tr>\n",
       "      <th>52</th>\n",
       "      <td>1921</td>\n",
       "      <td>0.0</td>\n",
       "      <td>0.0</td>\n",
       "      <td>0.0</td>\n",
       "      <td>0.0</td>\n",
       "      <td>0.0</td>\n",
       "      <td>0.0</td>\n",
       "      <td>7</td>\n",
       "    </tr>\n",
       "    <tr>\n",
       "      <th>53</th>\n",
       "      <td>1923</td>\n",
       "      <td>0.0</td>\n",
       "      <td>0.0</td>\n",
       "      <td>0.0</td>\n",
       "      <td>0.0</td>\n",
       "      <td>0.0</td>\n",
       "      <td>0.0</td>\n",
       "      <td>4</td>\n",
       "    </tr>\n",
       "    <tr>\n",
       "      <th>54</th>\n",
       "      <td>1924</td>\n",
       "      <td>0.0</td>\n",
       "      <td>0.0</td>\n",
       "      <td>0.0</td>\n",
       "      <td>0.0</td>\n",
       "      <td>0.0</td>\n",
       "      <td>0.0</td>\n",
       "      <td>17</td>\n",
       "    </tr>\n",
       "    <tr>\n",
       "      <th>55</th>\n",
       "      <td>1925</td>\n",
       "      <td>0.0</td>\n",
       "      <td>0.0</td>\n",
       "      <td>0.0</td>\n",
       "      <td>0.0</td>\n",
       "      <td>0.0</td>\n",
       "      <td>0.0</td>\n",
       "      <td>4</td>\n",
       "    </tr>\n",
       "  </tbody>\n",
       "</table>\n",
       "</div>"
      ],
      "text/plain": [
       "    year  CD4  TP53  GRB2  HBB  TNF  APOE  citations\n",
       "51  1920  0.0   0.0   0.0  0.0  0.0   0.0          3\n",
       "52  1921  0.0   0.0   0.0  0.0  0.0   0.0          7\n",
       "53  1923  0.0   0.0   0.0  0.0  0.0   0.0          4\n",
       "54  1924  0.0   0.0   0.0  0.0  0.0   0.0         17\n",
       "55  1925  0.0   0.0   0.0  0.0  0.0   0.0          4"
      ]
     },
     "execution_count": 11,
     "metadata": {},
     "output_type": "execute_result"
    }
   ],
   "source": [
    "summed_all = pd.merge(cd4_summed, tp53_summed, on=\"year\", how=\"outer\")\n",
    "summed_all = summed_all.merge(grb2_summed, on=\"year\", how=\"outer\")\n",
    "summed_all = summed_all.merge(hbb_summed, on=\"year\", how=\"outer\")\n",
    "summed_all = summed_all.merge(tnf_summed, on=\"year\", how=\"outer\")\n",
    "summed_all = summed_all.merge(apoe_summed, on=\"year\", how=\"outer\")\n",
    "summed_all = summed_all.merge(all_genes_by_year_summed, on=\"year\", how=\"outer\")\n",
    "summed_all_fill = summed_all.fillna(0).sort_values(\"year\")\n",
    "summed_all_fill.head()"
   ]
  },
  {
   "cell_type": "code",
   "execution_count": 12,
   "metadata": {
    "collapsed": false
   },
   "outputs": [
    {
     "data": {
      "text/html": [
       "<div>\n",
       "<table border=\"1\" class=\"dataframe\">\n",
       "  <thead>\n",
       "    <tr style=\"text-align: right;\">\n",
       "      <th></th>\n",
       "      <th>year</th>\n",
       "      <th>CD4</th>\n",
       "      <th>TP53</th>\n",
       "      <th>GRB2</th>\n",
       "      <th>HBB</th>\n",
       "      <th>TNF</th>\n",
       "      <th>APOE</th>\n",
       "      <th>citations_x</th>\n",
       "      <th>citations_y</th>\n",
       "    </tr>\n",
       "  </thead>\n",
       "  <tbody>\n",
       "    <tr>\n",
       "      <th>51</th>\n",
       "      <td>1920</td>\n",
       "      <td>0.0</td>\n",
       "      <td>0.0</td>\n",
       "      <td>0.0</td>\n",
       "      <td>0.0</td>\n",
       "      <td>0.0</td>\n",
       "      <td>0.0</td>\n",
       "      <td>3</td>\n",
       "      <td>0.0</td>\n",
       "    </tr>\n",
       "    <tr>\n",
       "      <th>52</th>\n",
       "      <td>1921</td>\n",
       "      <td>0.0</td>\n",
       "      <td>0.0</td>\n",
       "      <td>0.0</td>\n",
       "      <td>0.0</td>\n",
       "      <td>0.0</td>\n",
       "      <td>0.0</td>\n",
       "      <td>7</td>\n",
       "      <td>0.0</td>\n",
       "    </tr>\n",
       "    <tr>\n",
       "      <th>53</th>\n",
       "      <td>1923</td>\n",
       "      <td>0.0</td>\n",
       "      <td>0.0</td>\n",
       "      <td>0.0</td>\n",
       "      <td>0.0</td>\n",
       "      <td>0.0</td>\n",
       "      <td>0.0</td>\n",
       "      <td>4</td>\n",
       "      <td>0.0</td>\n",
       "    </tr>\n",
       "    <tr>\n",
       "      <th>54</th>\n",
       "      <td>1924</td>\n",
       "      <td>0.0</td>\n",
       "      <td>0.0</td>\n",
       "      <td>0.0</td>\n",
       "      <td>0.0</td>\n",
       "      <td>0.0</td>\n",
       "      <td>0.0</td>\n",
       "      <td>17</td>\n",
       "      <td>0.0</td>\n",
       "    </tr>\n",
       "    <tr>\n",
       "      <th>55</th>\n",
       "      <td>1925</td>\n",
       "      <td>0.0</td>\n",
       "      <td>0.0</td>\n",
       "      <td>0.0</td>\n",
       "      <td>0.0</td>\n",
       "      <td>0.0</td>\n",
       "      <td>0.0</td>\n",
       "      <td>4</td>\n",
       "      <td>0.0</td>\n",
       "    </tr>\n",
       "  </tbody>\n",
       "</table>\n",
       "</div>"
      ],
      "text/plain": [
       "    year  CD4  TP53  GRB2  HBB  TNF  APOE  citations_x  citations_y\n",
       "51  1920  0.0   0.0   0.0  0.0  0.0   0.0            3          0.0\n",
       "52  1921  0.0   0.0   0.0  0.0  0.0   0.0            7          0.0\n",
       "53  1923  0.0   0.0   0.0  0.0  0.0   0.0            4          0.0\n",
       "54  1924  0.0   0.0   0.0  0.0  0.0   0.0           17          0.0\n",
       "55  1925  0.0   0.0   0.0  0.0  0.0   0.0            4          0.0"
      ]
     },
     "execution_count": 12,
     "metadata": {},
     "output_type": "execute_result"
    }
   ],
   "source": [
    "summed_human = pd.merge(cd4_human_summed, tp53_human_summed, on=\"year\", how=\"outer\")\n",
    "summed_human = summed_all.merge(grb2_human_summed, on=\"year\", how=\"outer\")\n",
    "summed_human = summed_all.merge(hbb_human_summed, on=\"year\", how=\"outer\")\n",
    "summed_human = summed_all.merge(tnf_human_summed, on=\"year\", how=\"outer\")\n",
    "summed_human = summed_all.merge(apoe_human_summed, on=\"year\", how=\"outer\")\n",
    "summed_human = summed_all.merge(human_genes_by_year_summed, on=\"year\", how=\"outer\")\n",
    "summed_human_fill = summed_human.fillna(0).sort_values(\"year\")\n",
    "summed_human_fill.head()"
   ]
  },
  {
   "cell_type": "markdown",
   "metadata": {},
   "source": [
    "### Export to CSV"
   ]
  },
  {
   "cell_type": "code",
   "execution_count": 13,
   "metadata": {
    "collapsed": true
   },
   "outputs": [],
   "source": [
    "summed_all_fill.to_csv(\"./summed_all_fill.csv\")\n",
    "summed_human_fill.to_csv(\"./summed_human_fill.csv\")"
   ]
  },
  {
   "cell_type": "markdown",
   "metadata": {},
   "source": [
    "### Which are the most cited genes?"
   ]
  },
  {
   "cell_type": "code",
   "execution_count": 14,
   "metadata": {
    "collapsed": false,
    "scrolled": false
   },
   "outputs": [
    {
     "data": {
      "text/html": [
       "<div>\n",
       "<table border=\"1\" class=\"dataframe\">\n",
       "  <thead>\n",
       "    <tr style=\"text-align: right;\">\n",
       "      <th></th>\n",
       "      <th>symbol</th>\n",
       "      <th>citations</th>\n",
       "    </tr>\n",
       "  </thead>\n",
       "  <tbody>\n",
       "    <tr>\n",
       "      <th>5366140</th>\n",
       "      <td>APOE</td>\n",
       "      <td>4021</td>\n",
       "    </tr>\n",
       "    <tr>\n",
       "      <th>5366141</th>\n",
       "      <td>IL6</td>\n",
       "      <td>4033</td>\n",
       "    </tr>\n",
       "    <tr>\n",
       "      <th>5366142</th>\n",
       "      <td>VEGFA</td>\n",
       "      <td>4241</td>\n",
       "    </tr>\n",
       "    <tr>\n",
       "      <th>5366143</th>\n",
       "      <td>ATP8</td>\n",
       "      <td>4545</td>\n",
       "    </tr>\n",
       "    <tr>\n",
       "      <th>5366144</th>\n",
       "      <td>ND4L</td>\n",
       "      <td>4725</td>\n",
       "    </tr>\n",
       "    <tr>\n",
       "      <th>5366145</th>\n",
       "      <td>EGFR</td>\n",
       "      <td>4756</td>\n",
       "    </tr>\n",
       "    <tr>\n",
       "      <th>5366146</th>\n",
       "      <td>ND6</td>\n",
       "      <td>4779</td>\n",
       "    </tr>\n",
       "    <tr>\n",
       "      <th>5366147</th>\n",
       "      <td>ND3</td>\n",
       "      <td>4785</td>\n",
       "    </tr>\n",
       "    <tr>\n",
       "      <th>5366148</th>\n",
       "      <td>COX3</td>\n",
       "      <td>4808</td>\n",
       "    </tr>\n",
       "    <tr>\n",
       "      <th>5366149</th>\n",
       "      <td>ND4</td>\n",
       "      <td>4817</td>\n",
       "    </tr>\n",
       "    <tr>\n",
       "      <th>5366150</th>\n",
       "      <td>ND5</td>\n",
       "      <td>4818</td>\n",
       "    </tr>\n",
       "    <tr>\n",
       "      <th>5366151</th>\n",
       "      <td>ND2</td>\n",
       "      <td>4849</td>\n",
       "    </tr>\n",
       "    <tr>\n",
       "      <th>5366152</th>\n",
       "      <td>ATP6</td>\n",
       "      <td>4855</td>\n",
       "    </tr>\n",
       "    <tr>\n",
       "      <th>5366153</th>\n",
       "      <td>ND1</td>\n",
       "      <td>4862</td>\n",
       "    </tr>\n",
       "    <tr>\n",
       "      <th>5366154</th>\n",
       "      <td>CYTB</td>\n",
       "      <td>4942</td>\n",
       "    </tr>\n",
       "    <tr>\n",
       "      <th>5366155</th>\n",
       "      <td>COX1</td>\n",
       "      <td>4971</td>\n",
       "    </tr>\n",
       "    <tr>\n",
       "      <th>5366156</th>\n",
       "      <td>COX2</td>\n",
       "      <td>5135</td>\n",
       "    </tr>\n",
       "    <tr>\n",
       "      <th>5366157</th>\n",
       "      <td>TNF</td>\n",
       "      <td>5499</td>\n",
       "    </tr>\n",
       "    <tr>\n",
       "      <th>5366158</th>\n",
       "      <td>Gt(ROSA)26Sor</td>\n",
       "      <td>6567</td>\n",
       "    </tr>\n",
       "    <tr>\n",
       "      <th>5366159</th>\n",
       "      <td>TP53</td>\n",
       "      <td>8572</td>\n",
       "    </tr>\n",
       "  </tbody>\n",
       "</table>\n",
       "</div>"
      ],
      "text/plain": [
       "                symbol  citations\n",
       "5366140           APOE       4021\n",
       "5366141            IL6       4033\n",
       "5366142          VEGFA       4241\n",
       "5366143           ATP8       4545\n",
       "5366144           ND4L       4725\n",
       "5366145           EGFR       4756\n",
       "5366146            ND6       4779\n",
       "5366147            ND3       4785\n",
       "5366148           COX3       4808\n",
       "5366149            ND4       4817\n",
       "5366150            ND5       4818\n",
       "5366151            ND2       4849\n",
       "5366152           ATP6       4855\n",
       "5366153            ND1       4862\n",
       "5366154           CYTB       4942\n",
       "5366155           COX1       4971\n",
       "5366156           COX2       5135\n",
       "5366157            TNF       5499\n",
       "5366158  Gt(ROSA)26Sor       6567\n",
       "5366159           TP53       8572"
      ]
     },
     "execution_count": 14,
     "metadata": {},
     "output_type": "execute_result"
    }
   ],
   "source": [
    "all_genes = geneDf.filter([\"symbol\",\"citations\"], axis=1).groupby(\"symbol\")\n",
    "all_genes_summed = all_genes.sum().reset_index().sort_values(\"citations\").reset_index().drop(\"index\", 1)\n",
    "all_genes_summed.tail(20)"
   ]
  },
  {
   "cell_type": "markdown",
   "metadata": {},
   "source": [
    "### Export a CSV of the top 50 genes"
   ]
  },
  {
   "cell_type": "code",
   "execution_count": 15,
   "metadata": {
    "collapsed": true
   },
   "outputs": [],
   "source": [
    "all_genes_summed.tail(50).to_csv(\"./all_genes_summed_50.csv\")"
   ]
  },
  {
   "cell_type": "markdown",
   "metadata": {},
   "source": [
    "### Total number of citations"
   ]
  },
  {
   "cell_type": "code",
   "execution_count": 16,
   "metadata": {
    "collapsed": false
   },
   "outputs": [
    {
     "data": {
      "text/plain": [
       "'10,693,687'"
      ]
     },
     "execution_count": 16,
     "metadata": {},
     "output_type": "execute_result"
    }
   ],
   "source": [
    "\"{:,}\".format(all_genes_summed[\"citations\"].sum())"
   ]
  },
  {
   "cell_type": "markdown",
   "metadata": {
    "collapsed": true
   },
   "source": [
    "### Which are the most cited human genes?"
   ]
  },
  {
   "cell_type": "code",
   "execution_count": 17,
   "metadata": {
    "collapsed": false
   },
   "outputs": [
    {
     "data": {
      "text/html": [
       "<div>\n",
       "<table border=\"1\" class=\"dataframe\">\n",
       "  <thead>\n",
       "    <tr style=\"text-align: right;\">\n",
       "      <th></th>\n",
       "      <th>symbol</th>\n",
       "      <th>citations</th>\n",
       "    </tr>\n",
       "  </thead>\n",
       "  <tbody>\n",
       "    <tr>\n",
       "      <th>35697</th>\n",
       "      <td>LOC110806262</td>\n",
       "      <td>2408</td>\n",
       "    </tr>\n",
       "    <tr>\n",
       "      <th>35698</th>\n",
       "      <td>ACE</td>\n",
       "      <td>2416</td>\n",
       "    </tr>\n",
       "    <tr>\n",
       "      <th>35699</th>\n",
       "      <td>ERBB2</td>\n",
       "      <td>2448</td>\n",
       "    </tr>\n",
       "    <tr>\n",
       "      <th>35700</th>\n",
       "      <td>IL1B</td>\n",
       "      <td>2461</td>\n",
       "    </tr>\n",
       "    <tr>\n",
       "      <th>35701</th>\n",
       "      <td>MMP9</td>\n",
       "      <td>2482</td>\n",
       "    </tr>\n",
       "    <tr>\n",
       "      <th>35702</th>\n",
       "      <td>BRCA1</td>\n",
       "      <td>2530</td>\n",
       "    </tr>\n",
       "    <tr>\n",
       "      <th>35703</th>\n",
       "      <td>HLA-DRB1</td>\n",
       "      <td>2561</td>\n",
       "    </tr>\n",
       "    <tr>\n",
       "      <th>35704</th>\n",
       "      <td>HIF1A</td>\n",
       "      <td>2589</td>\n",
       "    </tr>\n",
       "    <tr>\n",
       "      <th>35705</th>\n",
       "      <td>IL10</td>\n",
       "      <td>2715</td>\n",
       "    </tr>\n",
       "    <tr>\n",
       "      <th>35706</th>\n",
       "      <td>NFKB1</td>\n",
       "      <td>2757</td>\n",
       "    </tr>\n",
       "    <tr>\n",
       "      <th>35707</th>\n",
       "      <td>AKT1</td>\n",
       "      <td>2791</td>\n",
       "    </tr>\n",
       "    <tr>\n",
       "      <th>35708</th>\n",
       "      <td>ESR1</td>\n",
       "      <td>2864</td>\n",
       "    </tr>\n",
       "    <tr>\n",
       "      <th>35709</th>\n",
       "      <td>MTHFR</td>\n",
       "      <td>3256</td>\n",
       "    </tr>\n",
       "    <tr>\n",
       "      <th>35710</th>\n",
       "      <td>TGFB1</td>\n",
       "      <td>3715</td>\n",
       "    </tr>\n",
       "    <tr>\n",
       "      <th>35711</th>\n",
       "      <td>IL6</td>\n",
       "      <td>3930</td>\n",
       "    </tr>\n",
       "    <tr>\n",
       "      <th>35712</th>\n",
       "      <td>APOE</td>\n",
       "      <td>3977</td>\n",
       "    </tr>\n",
       "    <tr>\n",
       "      <th>35713</th>\n",
       "      <td>VEGFA</td>\n",
       "      <td>4059</td>\n",
       "    </tr>\n",
       "    <tr>\n",
       "      <th>35714</th>\n",
       "      <td>EGFR</td>\n",
       "      <td>4683</td>\n",
       "    </tr>\n",
       "    <tr>\n",
       "      <th>35715</th>\n",
       "      <td>TNF</td>\n",
       "      <td>5314</td>\n",
       "    </tr>\n",
       "    <tr>\n",
       "      <th>35716</th>\n",
       "      <td>TP53</td>\n",
       "      <td>8479</td>\n",
       "    </tr>\n",
       "  </tbody>\n",
       "</table>\n",
       "</div>"
      ],
      "text/plain": [
       "             symbol  citations\n",
       "35697  LOC110806262       2408\n",
       "35698           ACE       2416\n",
       "35699         ERBB2       2448\n",
       "35700          IL1B       2461\n",
       "35701          MMP9       2482\n",
       "35702         BRCA1       2530\n",
       "35703      HLA-DRB1       2561\n",
       "35704         HIF1A       2589\n",
       "35705          IL10       2715\n",
       "35706         NFKB1       2757\n",
       "35707          AKT1       2791\n",
       "35708          ESR1       2864\n",
       "35709         MTHFR       3256\n",
       "35710         TGFB1       3715\n",
       "35711           IL6       3930\n",
       "35712          APOE       3977\n",
       "35713         VEGFA       4059\n",
       "35714          EGFR       4683\n",
       "35715           TNF       5314\n",
       "35716          TP53       8479"
      ]
     },
     "execution_count": 17,
     "metadata": {},
     "output_type": "execute_result"
    }
   ],
   "source": [
    "all_genes_human = geneDf[geneDf[\"taxId\"] == 9606].filter([\"symbol\",\"citations\"], axis=1).groupby(\"symbol\")\n",
    "all_genes_human_summed = all_genes_human.sum().reset_index().sort_values(\"citations\").reset_index().drop(\"index\", 1)\n",
    "all_genes_human_summed.tail(20)"
   ]
  },
  {
   "cell_type": "markdown",
   "metadata": {
    "collapsed": true
   },
   "source": [
    "### Export a CSV of the top 50 genes"
   ]
  },
  {
   "cell_type": "code",
   "execution_count": 25,
   "metadata": {
    "collapsed": true
   },
   "outputs": [],
   "source": [
    "all_genes_human_summed.tail(50).to_csv(\"./all_genes_human_summed_50.csv\")"
   ]
  },
  {
   "cell_type": "markdown",
   "metadata": {},
   "source": [
    "### Export a CSV of the top 100 genes"
   ]
  },
  {
   "cell_type": "code",
   "execution_count": 26,
   "metadata": {
    "collapsed": true
   },
   "outputs": [],
   "source": [
    "all_genes_human_summed.tail(100).to_csv(\"./all_genes_human_summed_100.csv\")"
   ]
  },
  {
   "cell_type": "markdown",
   "metadata": {},
   "source": [
    "### Total number of citations"
   ]
  },
  {
   "cell_type": "code",
   "execution_count": 19,
   "metadata": {
    "collapsed": false
   },
   "outputs": [
    {
     "data": {
      "text/plain": [
       "'1,233,229'"
      ]
     },
     "execution_count": 19,
     "metadata": {},
     "output_type": "execute_result"
    }
   ],
   "source": [
    "\"{:,}\".format(all_genes_human_summed[\"citations\"].sum())"
   ]
  },
  {
   "cell_type": "markdown",
   "metadata": {},
   "source": [
    "### Which are the most cited Species?"
   ]
  },
  {
   "cell_type": "code",
   "execution_count": 20,
   "metadata": {
    "collapsed": false
   },
   "outputs": [
    {
     "data": {
      "text/html": [
       "<div>\n",
       "<table border=\"1\" class=\"dataframe\">\n",
       "  <thead>\n",
       "    <tr style=\"text-align: right;\">\n",
       "      <th></th>\n",
       "      <th>taxId</th>\n",
       "      <th>citations</th>\n",
       "    </tr>\n",
       "  </thead>\n",
       "  <tbody>\n",
       "    <tr>\n",
       "      <th>13662</th>\n",
       "      <td>280463</td>\n",
       "      <td>38544</td>\n",
       "    </tr>\n",
       "    <tr>\n",
       "      <th>13663</th>\n",
       "      <td>353153</td>\n",
       "      <td>39307</td>\n",
       "    </tr>\n",
       "    <tr>\n",
       "      <th>13664</th>\n",
       "      <td>3694</td>\n",
       "      <td>41575</td>\n",
       "    </tr>\n",
       "    <tr>\n",
       "      <th>13665</th>\n",
       "      <td>49451</td>\n",
       "      <td>42275</td>\n",
       "    </tr>\n",
       "    <tr>\n",
       "      <th>13666</th>\n",
       "      <td>46245</td>\n",
       "      <td>49091</td>\n",
       "    </tr>\n",
       "    <tr>\n",
       "      <th>13667</th>\n",
       "      <td>6239</td>\n",
       "      <td>53273</td>\n",
       "    </tr>\n",
       "    <tr>\n",
       "      <th>13668</th>\n",
       "      <td>208964</td>\n",
       "      <td>57965</td>\n",
       "    </tr>\n",
       "    <tr>\n",
       "      <th>13669</th>\n",
       "      <td>9913</td>\n",
       "      <td>59264</td>\n",
       "    </tr>\n",
       "    <tr>\n",
       "      <th>13670</th>\n",
       "      <td>412133</td>\n",
       "      <td>59512</td>\n",
       "    </tr>\n",
       "    <tr>\n",
       "      <th>13671</th>\n",
       "      <td>4577</td>\n",
       "      <td>64779</td>\n",
       "    </tr>\n",
       "    <tr>\n",
       "      <th>13672</th>\n",
       "      <td>500485</td>\n",
       "      <td>87962</td>\n",
       "    </tr>\n",
       "    <tr>\n",
       "      <th>13673</th>\n",
       "      <td>3880</td>\n",
       "      <td>100925</td>\n",
       "    </tr>\n",
       "    <tr>\n",
       "      <th>13674</th>\n",
       "      <td>3702</td>\n",
       "      <td>104232</td>\n",
       "    </tr>\n",
       "    <tr>\n",
       "      <th>13675</th>\n",
       "      <td>511145</td>\n",
       "      <td>105028</td>\n",
       "    </tr>\n",
       "    <tr>\n",
       "      <th>13676</th>\n",
       "      <td>7955</td>\n",
       "      <td>132897</td>\n",
       "    </tr>\n",
       "    <tr>\n",
       "      <th>13677</th>\n",
       "      <td>559292</td>\n",
       "      <td>202173</td>\n",
       "    </tr>\n",
       "    <tr>\n",
       "      <th>13678</th>\n",
       "      <td>10116</td>\n",
       "      <td>261920</td>\n",
       "    </tr>\n",
       "    <tr>\n",
       "      <th>13679</th>\n",
       "      <td>7227</td>\n",
       "      <td>516801</td>\n",
       "    </tr>\n",
       "    <tr>\n",
       "      <th>13680</th>\n",
       "      <td>10090</td>\n",
       "      <td>1029606</td>\n",
       "    </tr>\n",
       "    <tr>\n",
       "      <th>13681</th>\n",
       "      <td>9606</td>\n",
       "      <td>1233229</td>\n",
       "    </tr>\n",
       "  </tbody>\n",
       "</table>\n",
       "</div>"
      ],
      "text/plain": [
       "        taxId  citations\n",
       "13662  280463      38544\n",
       "13663  353153      39307\n",
       "13664    3694      41575\n",
       "13665   49451      42275\n",
       "13666   46245      49091\n",
       "13667    6239      53273\n",
       "13668  208964      57965\n",
       "13669    9913      59264\n",
       "13670  412133      59512\n",
       "13671    4577      64779\n",
       "13672  500485      87962\n",
       "13673    3880     100925\n",
       "13674    3702     104232\n",
       "13675  511145     105028\n",
       "13676    7955     132897\n",
       "13677  559292     202173\n",
       "13678   10116     261920\n",
       "13679    7227     516801\n",
       "13680   10090    1029606\n",
       "13681    9606    1233229"
      ]
     },
     "execution_count": 20,
     "metadata": {},
     "output_type": "execute_result"
    }
   ],
   "source": [
    "all_species = geneDf.filter([\"taxId\",\"citations\"], axis=1).groupby(\"taxId\")\n",
    "all_species_summed = all_species.sum().reset_index().sort_values(\"citations\").reset_index().drop(\"index\", 1)\n",
    "all_species_summed.tail(20)"
   ]
  },
  {
   "cell_type": "markdown",
   "metadata": {},
   "source": [
    "### Total number of citations by species "
   ]
  },
  {
   "cell_type": "code",
   "execution_count": 21,
   "metadata": {
    "collapsed": false
   },
   "outputs": [
    {
     "data": {
      "text/plain": [
       "'10,693,813'"
      ]
     },
     "execution_count": 21,
     "metadata": {},
     "output_type": "execute_result"
    }
   ],
   "source": [
    "\"{:,}\".format(all_species_summed[\"citations\"].sum())"
   ]
  },
  {
   "cell_type": "markdown",
   "metadata": {},
   "source": [
    "### Total number of citations in whole document"
   ]
  },
  {
   "cell_type": "code",
   "execution_count": 27,
   "metadata": {
    "collapsed": false
   },
   "outputs": [
    {
     "data": {
      "text/plain": [
       "'10,693,813'"
      ]
     },
     "execution_count": 27,
     "metadata": {},
     "output_type": "execute_result"
    }
   ],
   "source": [
    "\"{:,}\".format(geneDf[\"citations\"].sum())"
   ]
  }
 ],
 "metadata": {
  "kernelspec": {
   "display_name": "Python 2",
   "language": "python",
   "name": "python2"
  },
  "language_info": {
   "codemirror_mode": {
    "name": "ipython",
    "version": 2
   },
   "file_extension": ".py",
   "mimetype": "text/x-python",
   "name": "python",
   "nbconvert_exporter": "python",
   "pygments_lexer": "ipython2",
   "version": "2.7.13"
  }
 },
 "nbformat": 4,
 "nbformat_minor": 2
}
